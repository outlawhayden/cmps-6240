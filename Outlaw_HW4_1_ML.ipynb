{
 "cells": [
  {
   "cell_type": "markdown",
   "metadata": {
    "id": "LaGlg7FhVPzr"
   },
   "source": [
    "## Importing Libraries"
   ]
  },
  {
   "cell_type": "code",
   "execution_count": 1,
   "metadata": {
    "id": "Kj1Cu8lXVZD2"
   },
   "outputs": [],
   "source": [
    "import numpy as np\n",
    "import sklearn as sk\n",
    "import pandas as pd\n",
    "import matplotlib as mpl\n",
    "import matplotlib.pyplot as plt\n",
    "from sklearn.model_selection import train_test_split\n",
    "from sklearn.linear_model import SGDRegressor\n",
    "from sklearn.model_selection import GridSearchCV\n",
    "from sklearn.metrics import mean_squared_error\n",
    "from tabulate import tabulate"
   ]
  },
  {
   "cell_type": "markdown",
   "metadata": {
    "id": "ghI59OulVGkP"
   },
   "source": [
    "## Requirements"
   ]
  },
  {
   "cell_type": "markdown",
   "metadata": {
    "id": "Q5aQa5JRVEr7"
   },
   "source": [
    "You are going to train ridge regression using SGD.\n",
    "Ridge regression has the cost function = MSE + alpha*||w||^2, where ||w|| is the Euclidean norm.\n",
    "The goal is to find two optimal hyperparameters 1) learning rate of SGD and 2) alpha.\n",
    "\n",
    "First, generate data like this:\n",
    "\n",
    "np.random.seed(0)\n",
    "m = 100\n",
    "X = 6 * np.random.rand(m, 1) - 3\n",
    "y = 2 + X + 0.3 * X**2 + 2*np.random.randn(m, 1)\n",
    "y = y.reshape((m))\n",
    "\n",
    "Use the seed 0.\n",
    "\n",
    "1. Randomly split the data into 80% training data and 20% testing data. Then split the training data again into 75% training data and 25% validation data. Keep this split fixed.\n",
    "\n",
    "2. Use SGDRegressor(max_iter=1000, tol=-np.infty, warm_start=True, penalty=\"l2\", learning_rate=\"constant\", random_state=0, alpha=alpha, eta0=eta0)\n",
    "What does this do? Comment on the choice of arguments above.\n",
    "Here alpha and eta0 are the value you are going to provide as the regularization weight and the learning rate.\n",
    "\n",
    "3. For each combinations of alphas = [1E-6,1E-5,1E-4,1E-3,1E-2,1E-1], eta0s = [1E-6,1E-5,1E-4,1E-3,1E-2,1E-1] \n",
    "\n",
    "(a) instantiate SGDRegressor,\n",
    "(b) call fit(),\n",
    "(c) call predict() and measure training and validation scores.\n",
    "\n",
    "4. Report the training and validation error for each combination. Which combination has the smallest validation error?\n",
    "\n",
    "5. Now use these hyperparameters to retrain the model from scratch using ALL training data (=train + validation sets).Plot the training and test error as a function of epochs. You might want to use SGDRegressor(max_iter=1, ... )\n",
    "\n",
    "6. Report the test score or this final model, and also plot the test data vs final linear regression as a line."
   ]
  },
  {
   "cell_type": "markdown",
   "metadata": {
    "id": "4HZojBBBVLjA"
   },
   "source": [
    "## 0. Generating Data"
   ]
  },
  {
   "cell_type": "code",
   "execution_count": 2,
   "metadata": {
    "id": "jwjyR-zGVO1n"
   },
   "outputs": [],
   "source": [
    "# Generate 100 Data Points\n",
    "np.random.seed(0)\n",
    "m = 100\n",
    "X = 6 * np.random.rand(m, 1) - 3\n",
    "y = 2 + X + 0.3 * X**2 + 2*np.random.randn(m, 1)\n",
    "y = y.reshape((m))\n"
   ]
  },
  {
   "cell_type": "markdown",
   "metadata": {
    "id": "n_3-XdCSWj92"
   },
   "source": [
    "## 1. Splitting Data"
   ]
  },
  {
   "cell_type": "code",
   "execution_count": 3,
   "metadata": {
    "id": "n_z-hzTZVrXv"
   },
   "outputs": [],
   "source": [
    "# Splitting data into train and test sets, and then training and validation sets\n",
    "x_train, x_test, y_train, y_test = train_test_split(X,y, test_size = 0.20, random_state = 0)\n",
    "x_train_train, x_train_val, y_train_train, y_train_val = train_test_split(x_train, y_train, test_size = 0.25, random_state = 0)"
   ]
  },
  {
   "cell_type": "markdown",
   "metadata": {
    "id": "-Ok6mFUcXTDq"
   },
   "source": [
    "## 2. Creating Regression"
   ]
  },
  {
   "cell_type": "markdown",
   "metadata": {
    "id": "VrRs7q0WXttp"
   },
   "source": [
    "This argument creates a Stochastic Gradient Descent Regressor. It will iterate a maximum of 1000 times, has no tolerance, and a seed of 0. `warm_start` uses the previous result as initialization for efficiency, and `penalty = \"l2\"` specifies the $\\ell_{2}$ norm as the regularization function. `alpha` and `eta0` are the hyperparameters; `alpha` is the constant multiplied by the regularization term in the cost function, and `eta0` is the initial step size of the gradient descent."
   ]
  },
  {
   "cell_type": "markdown",
   "metadata": {
    "id": "KJwo0prgrcIa"
   },
   "source": [
    "## 3. Checking Parameters"
   ]
  },
  {
   "cell_type": "code",
   "execution_count": 4,
   "metadata": {
    "id": "6NsjMBHuY8vd"
   },
   "outputs": [],
   "source": [
    "# List of parameters\n",
    "alphaparams = [1E-6,1E-5,1E-4,1E-3,1E-2,1E-1]\n",
    "etaparams = [1E-6,1E-5,1E-4,1E-3,1E-2,1E-1]\n",
    "\n",
    "# Empty list for results\n",
    "resultlist = []\n",
    "\n",
    "# Iterate through parammeters\n",
    "for a in range(len(alphaparams)):\n",
    "  for e in range(len(etaparams)):\n",
    "    # Instantiate Regressor\n",
    "    descent_regressor = SGDRegressor(max_iter=1000, tol=-np.infty, warm_start=True, penalty=\"l2\", learning_rate=\"constant\", random_state=0, alpha=alphaparams[a], eta0=etaparams[e])\n",
    "    # Fit on training data, get MSE\n",
    "    descent_regressor.fit(x_train_train, y_train_train)\n",
    "    descent_training_prediction = descent_regressor.predict(x_train_train)\n",
    "    train_error = mean_squared_error(descent_training_prediction, y_train_train)\n",
    "    # Fit on validation data, get MSE\n",
    "    descent_val_prediction = descent_regressor.predict(x_train_val)\n",
    "    val_error = mean_squared_error(descent_val_prediction, y_train_val)\n",
    "    # Save parameters and error to table\n",
    "    resultlist.append([alphaparams[a], etaparams[e], train_error, val_error])\n",
    "\n"
   ]
  },
  {
   "cell_type": "markdown",
   "metadata": {
    "id": "pyzcLsu_rhmJ"
   },
   "source": [
    "## 4. Tabulating Output and Finding Optimum"
   ]
  },
  {
   "cell_type": "code",
   "execution_count": 5,
   "metadata": {
    "colab": {
     "base_uri": "https://localhost:8080/"
    },
    "id": "2HzLT3aErk_T",
    "outputId": "c3711aca-42d6-4580-bdb2-04119270c250"
   },
   "outputs": [
    {
     "name": "stdout",
     "output_type": "stream",
     "text": [
      "  ALPHA     ETA    TRAINING_ERROR    VALIDATION_ERROR\n",
      "-------  ------  ----------------  ------------------\n",
      " 1e-06   1e-06           15.0145             18.0474\n",
      " 1e-06   1e-05            7.48338             9.19353\n",
      " 1e-06   0.0001           4.15857             4.16563\n",
      " 1e-06   0.001            4.15852             4.15663\n",
      " 1e-06   0.01             4.2002              4.10589\n",
      " 1e-06   0.1              4.82351             4.1234\n",
      " 1e-05   1e-06           15.0145             18.0474\n",
      " 1e-05   1e-05            7.48338             9.19354\n",
      " 1e-05   0.0001           4.15857             4.16562\n",
      " 1e-05   0.001            4.15852             4.15663\n",
      " 1e-05   0.01             4.2002              4.10589\n",
      " 1e-05   0.1              4.82351             4.12341\n",
      " 0.0001  1e-06           15.0145             18.0474\n",
      " 0.0001  1e-05            7.48339             9.19355\n",
      " 0.0001  0.0001           4.15857             4.16561\n",
      " 0.0001  0.001            4.15852             4.15661\n",
      " 0.0001  0.01             4.20023             4.10589\n",
      " 0.0001  0.1              4.82355             4.12343\n",
      " 0.001   1e-06           15.0146             18.0474\n",
      " 0.001   1e-05            7.48354             9.19366\n",
      " 0.001   0.0001           4.15857             4.16541\n",
      " 0.001   0.001            4.15852             4.15642\n",
      " 0.001   0.01             4.20045             4.10588\n",
      " 0.001   0.1              4.82396             4.12371\n",
      " 0.01    1e-06           15.0147             18.0476\n",
      " 0.01    1e-05            7.48497             9.19476\n",
      " 0.01    0.0001           4.15861             4.16353\n",
      " 0.01    0.001            4.15859             4.15455\n",
      " 0.01    0.01             4.20269             4.10583\n",
      " 0.01    0.1              4.82807             4.12652\n",
      " 0.1     1e-06           15.0162             18.049\n",
      " 0.1     1e-05            7.49966             9.20612\n",
      " 0.1     0.0001           4.16146             4.14754\n",
      " 0.1     0.001            4.16179             4.13869\n",
      " 0.1     0.01             4.22735             4.10799\n",
      " 0.1     0.1              4.86904             4.15471\n"
     ]
    }
   ],
   "source": [
    "# Tabulate output\n",
    "print(tabulate(resultlist, headers = [\"ALPHA\", \"ETA\", \"TRAINING_ERROR\", \"VALIDATION_ERROR\"]))"
   ]
  },
  {
   "cell_type": "markdown",
   "metadata": {
    "id": "7ir4XkPzJ6mz"
   },
   "source": [
    "The best parameters are `alpha = 0.1`, `eta0 = 0.01`"
   ]
  },
  {
   "cell_type": "code",
   "execution_count": 6,
   "metadata": {
    "colab": {
     "base_uri": "https://localhost:8080/"
    },
    "id": "eVgg3sy6aXwZ",
    "outputId": "b3df4eea-fa23-43ec-c734-0c162dfbaa6b"
   },
   "outputs": [
    {
     "name": "stdout",
     "output_type": "stream",
     "text": [
      "The best combination: Alpha = 0.010000, eta0 = 0.010000, Training Error: 4.202686, Testing Error: 4.105827\n"
     ]
    }
   ],
   "source": [
    "# Finding minimum validation error\n",
    "val_errors = [r[3] for r in resultlist]\n",
    "min_error = min(val_errors)\n",
    "min_index = val_errors.index(min_error)\n",
    "\n",
    "print(\"The best combination: Alpha = %f, eta0 = %f, Training Error: %f, Testing Error: %f\" %(resultlist[min_index][0],resultlist[min_index][1],resultlist[min_index][2],resultlist[min_index][3]))"
   ]
  },
  {
   "cell_type": "markdown",
   "metadata": {
    "id": "29XO9Y_5rxBm"
   },
   "source": [
    "## 5. Using Entire Training Dataset"
   ]
  },
  {
   "cell_type": "code",
   "execution_count": 7,
   "metadata": {
    "id": "uvFAjBy_vqoi"
   },
   "outputs": [],
   "source": [
    "# Creating Regressor\n",
    "regressor_opt = SGDRegressor(max_iter=1, tol=-np.infty, warm_start=True, penalty=\"l2\", learning_rate=\"constant\", random_state=0, alpha=0.1, eta0=0.01)\n",
    "\n",
    "# Number of epochs\n",
    "n_epochs = 10\n",
    "\n",
    "# Create empty arrays\n",
    "train_errors, val_errors = [],[]\n",
    "\n",
    "# Run entire data set through regressor once per epoch\n",
    "for epoch in range(n_epochs):\n",
    "  regressor_opt.fit(x_train, y_train)\n",
    "  y_train_predict = regressor_opt.predict(x_train_train)\n",
    "  y_val_predict = regressor_opt.predict(x_train_val)\n",
    "  train_errors.append(mean_squared_error(y_train_train, y_train_predict))\n",
    "  val_errors.append(mean_squared_error(y_train_val, y_val_predict))\n",
    "                                      "
   ]
  },
  {
   "cell_type": "code",
   "execution_count": 8,
   "metadata": {
    "colab": {
     "base_uri": "https://localhost:8080/",
     "height": 295
    },
    "id": "96M3AMjXyDpL",
    "outputId": "5b119160-660a-4088-893c-3c05889daf7a"
   },
   "outputs": [
    {
     "data": {
      "image/png": "[encoded data removed]",
      "text/plain": [
       "<Figure size 432x288 with 1 Axes>"
      ]
     },
     "metadata": {
      "needs_background": "light"
     },
     "output_type": "display_data"
    }
   ],
   "source": [
    "# Ploting validation and training MSE as epochs increase\n",
    "\n",
    "plt.plot(val_errors, \"-.\", linewidth=2, label=\"Validation Set\")\n",
    "plt.plot(train_errors, \"--\", linewidth = 2, label = \"Training Set\")\n",
    "plt.legend(loc = \"upper right\")\n",
    "plt.xlabel(\"Epoch\")\n",
    "plt.ylabel(\"Mean Squared Error\")\n",
    "plt.title(\"Optimum SGD Regressor on Both Training and Validation Data\")\n",
    "plt.show()\n"
   ]
  },
  {
   "cell_type": "markdown",
   "metadata": {
    "id": "FZyzxLvudl9P"
   },
   "source": [
    "## 6. Results on Test Dataset"
   ]
  },
  {
   "cell_type": "code",
   "execution_count": 9,
   "metadata": {
    "colab": {
     "base_uri": "https://localhost:8080/"
    },
    "id": "_8MqO4psdoDp",
    "outputId": "1c2a63e1-2f0d-4710-a420-acd5117e9784"
   },
   "outputs": [
    {
     "name": "stdout",
     "output_type": "stream",
     "text": [
      "Overall Test MSE: 4.526050\n"
     ]
    }
   ],
   "source": [
    "# Fitting to test data\n",
    "y_test_pred = regressor_opt.predict(x_test)\n",
    "\n",
    "# Calculating MSE\n",
    "test_error = mean_squared_error(y_test_pred, y_test)\n",
    "\n",
    "print(\"Overall Test MSE: %f\" %(test_error))"
   ]
  },
  {
   "cell_type": "code",
   "execution_count": 10,
   "metadata": {
    "colab": {
     "base_uri": "https://localhost:8080/",
     "height": 313
    },
    "id": "16ynT99ogBfS",
    "outputId": "7ed68d17-5312-4540-94d5-920ad658aabf"
   },
   "outputs": [
    {
     "data": {
      "text/plain": [
       "Text(0, 0.5, 'Y')"
      ]
     },
     "execution_count": 10,
     "metadata": {},
     "output_type": "execute_result"
    },
    {
     "data": {
      "image/png": "[encoded data removed]",
      "text/plain": [
       "<Figure size 432x288 with 1 Axes>"
      ]
     },
     "metadata": {
      "needs_background": "light"
     },
     "output_type": "display_data"
    }
   ],
   "source": [
    "plt.scatter(x_test, y_test, label = \"Test Data\")\n",
    "plt.plot(x_test, y_test_pred, linewidth = 2, color = \"orange\", label = \"Regression Line\")\n",
    "plt.legend(loc = \"upper left\")\n",
    "plt.title(\"Final Comparison between SGD Regression and Test Data\")\n",
    "plt.xlabel(\"X\")\n",
    "plt.ylabel(\"Y\")"
   ]
  }
 ],
 "metadata": {
  "colab": {
   "collapsed_sections": [],
   "provenance": []
  },
  "kernelspec": {
   "display_name": "Python 3 (ipykernel)",
   "language": "python",
   "name": "python3"
  },
  "language_info": {
   "codemirror_mode": {
    "name": "ipython",
    "version": 3
   },
   "file_extension": ".py",
   "mimetype": "text/x-python",
   "name": "python",
   "nbconvert_exporter": "python",
   "pygments_lexer": "ipython3",
   "version": "3.8.13"
  }
 },
 "nbformat": 4,
 "nbformat_minor": 4
}
