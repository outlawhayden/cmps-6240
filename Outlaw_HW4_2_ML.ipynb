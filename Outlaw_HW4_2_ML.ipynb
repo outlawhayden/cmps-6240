{
 "cells": [
  {
   "cell_type": "markdown",
   "metadata": {
    "id": "BfLR1Mcwhn7D"
   },
   "source": [
    "## Instructions\n",
    "We will train Logistic Regression, which was the 2nd topic of Lecture 4.\n",
    "\n",
    "Instead of the Iris dataset, we will use load the Digits dataset using \"sklearn.datasets.load_digits()\".\n",
    "You'll use \"X = digits[\"data\"]\" and \"y = digits[\"target\"]\" to load images (=features) and their true labels.\n",
    "\n",
    "Use the seed 0 everywhere.\n",
    "\n",
    "1. Plot the first 100 images (with 10 images per row) as you did with MNIST. This dataset is  different from MNIST in sizes, number of examples, values, etc. You should modify the plotting function to accommodate the differences.\n",
    "\n",
    "2. Randomly split the data into 80% training data and 20% testing data. Keep this split fixed.\n",
    "\n",
    "We will try two different regularizers (l2 and l1) separately.\n",
    "\n",
    "First use LogisticRegression(multi_class=\"multinomial\",solver=\"lbfgs\", penalty=\"l2\", C=C, random_state=0, max_iter=1000)\n",
    "\n",
    "What does this do? Comment on the choice of arguments above.\n",
    "Here C are the value you are going to provide as the regularization weight, similar to HW4-1.\n",
    "\n",
    "3. For each value of Cs = [1E-5,1E-4,1E-3,1E-2,1E-1,1E0]\n",
    "\n",
    "(a) instantiate LogisticRegression\n",
    "(b) measure 4-fold cross_validation error\n",
    "\n",
    "Report the cross-validation errors. Which C value has the smallest validation error?\n",
    "\n",
    "4. Now use the hyperparameter to retrain the model from scratch using all training data. Report the train and test error of this final model.\n",
    "\n",
    "5. Repeat 3 with LogisticRegression(..., penalty=\"l1\", C=C, random_state=0, max_iter=1000, solver='saga')\n",
    "\n",
    "6. Repeat 4 with LogisticRegression(..., penalty=\"l1\", C=C, random_state=0, max_iter=1000, solver='saga')"
   ]
  },
  {
   "cell_type": "markdown",
   "metadata": {
    "id": "QviLrbx9hrSJ"
   },
   "source": [
    "## 0. Loading Data and Libraries"
   ]
  },
  {
   "cell_type": "code",
   "execution_count": 1,
   "metadata": {
    "id": "AepVdaJ1hoiG"
   },
   "outputs": [],
   "source": [
    "# Importing libraries and packages\n",
    "import sklearn\n",
    "from sklearn.datasets import load_digits\n",
    "from sklearn.model_selection import train_test_split\n",
    "from sklearn.linear_model import LogisticRegression\n",
    "from sklearn.model_selection import cross_val_score\n",
    "from sklearn.metrics import mean_squared_error\n",
    "import numpy as np\n",
    "import pandas\n",
    "import os\n",
    "import matplotlib as mpl\n",
    "import matplotlib.pyplot as plt\n",
    "from tabulate import tabulate"
   ]
  },
  {
   "cell_type": "code",
   "execution_count": 2,
   "metadata": {
    "id": "01pqcSPVh4b0"
   },
   "outputs": [],
   "source": [
    "# Load `digits` data from sklearn.datasets, split into data and target values\n",
    "digits = load_digits()\n",
    "X = digits[\"data\"]\n",
    "y = digits[\"target\"]"
   ]
  },
  {
   "cell_type": "code",
   "execution_count": 3,
   "metadata": {
    "colab": {
     "base_uri": "https://localhost:8080/"
    },
    "id": "bEgMT8CCi59R",
    "outputId": "2cdfe36e-9a3c-4a64-88f1-b2747cb796b7"
   },
   "outputs": [
    {
     "data": {
      "text/plain": [
       "(1797, 64)"
      ]
     },
     "execution_count": 3,
     "metadata": {},
     "output_type": "execute_result"
    }
   ],
   "source": [
    "X.shape\n",
    "# 1797 entries, of 64 pixels each (image must be 8x8)"
   ]
  },
  {
   "cell_type": "code",
   "execution_count": 4,
   "metadata": {
    "colab": {
     "base_uri": "https://localhost:8080/"
    },
    "id": "szu6VoBvjCwy",
    "outputId": "c58ffde7-68d1-4cb5-f738-dbf604a3144c"
   },
   "outputs": [
    {
     "data": {
      "text/plain": [
       "(1797,)"
      ]
     },
     "execution_count": 4,
     "metadata": {},
     "output_type": "execute_result"
    }
   ],
   "source": [
    "y.shape\n",
    "# 1797 entries"
   ]
  },
  {
   "cell_type": "markdown",
   "metadata": {
    "id": "CgOCgaRgiZ1i"
   },
   "source": [
    "## 1. Plotting Digits Data"
   ]
  },
  {
   "cell_type": "code",
   "execution_count": 5,
   "metadata": {
    "colab": {
     "base_uri": "https://localhost:8080/",
     "height": 248
    },
    "id": "ryXMZ-JOibYS",
    "outputId": "e811d001-1470-4209-cdc8-35a4f2ae3ee4"
   },
   "outputs": [
    {
     "data": {
      "image/png": "[encoded data removed]",
      "text/plain": [
       "<Figure size 640x480 with 1 Axes>"
      ]
     },
     "metadata": {},
     "output_type": "display_data"
    }
   ],
   "source": [
    "# Take some entry in X\n",
    "some_digit = X[20]\n",
    "\n",
    "# Reshape the vector for an 8x8 grid\n",
    "some_digit_image = some_digit.reshape(8,8)\n",
    "\n",
    "# Plot by mapping the entry of each pixel to grayscale value\n",
    "plt.imshow(some_digit_image, cmap=mpl.cm.binary)\n",
    "plt.axis(\"off\")\n",
    "plt.show()"
   ]
  },
  {
   "cell_type": "code",
   "execution_count": 6,
   "metadata": {
    "colab": {
     "base_uri": "https://localhost:8080/"
    },
    "id": "GZLYk4BqjhiH",
    "outputId": "2f82ca31-05ee-4b13-ad87-402e8d110bb0"
   },
   "outputs": [
    {
     "data": {
      "text/plain": [
       "0"
      ]
     },
     "execution_count": 6,
     "metadata": {},
     "output_type": "execute_result"
    }
   ],
   "source": [
    "# Check that label value matches picture\n",
    "y[20]"
   ]
  },
  {
   "cell_type": "code",
   "execution_count": 7,
   "metadata": {
    "id": "bAaUZUyEjo7q"
   },
   "outputs": [],
   "source": [
    "# Plot function from lecture 3, modified for 8x8 images\n",
    "def plot_digits(instances, images_per_row=10, **options):\n",
    "    size = 8\n",
    "    images_per_row = min(len(instances), images_per_row)\n",
    "    n_rows = (len(instances) - 1) // images_per_row + 1\n",
    "    n_empty = n_rows * images_per_row - len(instances)\n",
    "    padded_instances = np.concatenate([instances, np.zeros((n_empty, size * size))], axis=0)\n",
    "    image_grid = padded_instances.reshape((n_rows, images_per_row, size, size))\n",
    "    big_image = image_grid.transpose(0, 2, 1, 3).reshape(n_rows * size, images_per_row * size)\n",
    "    plt.imshow(big_image, cmap = mpl.cm.binary, **options)\n",
    "    plt.axis(\"off\")"
   ]
  },
  {
   "cell_type": "code",
   "execution_count": 8,
   "metadata": {
    "colab": {
     "base_uri": "https://localhost:8080/",
     "height": 520
    },
    "id": "31oi_kX3kHrc",
    "outputId": "18c812ac-8b6f-4df8-9438-a50e488f3505"
   },
   "outputs": [
    {
     "data": {
      "image/png": "[encoded data removed]",
      "text/plain": [
       "<Figure size 900x900 with 1 Axes>"
      ]
     },
     "metadata": {},
     "output_type": "display_data"
    }
   ],
   "source": [
    "# Make a 10 x 10 grid\n",
    "plt.figure(figsize=(9,9))\n",
    "# Take first 100 data samples and plot\n",
    "example_images = X[:100]\n",
    "plot_digits(example_images, images_per_row=10)\n",
    "plt.show()"
   ]
  },
  {
   "cell_type": "markdown",
   "metadata": {
    "id": "7X47s2r3kuG0"
   },
   "source": [
    "*Note that the resolution is lower than the MNIST image data, (8x8 image as opposed to a 28x28 image) - each number is harder to make out*"
   ]
  },
  {
   "cell_type": "markdown",
   "metadata": {
    "id": "dzbaiJd-lcB3"
   },
   "source": [
    "## 2. Splitting data into training and test sets"
   ]
  },
  {
   "cell_type": "code",
   "execution_count": 9,
   "metadata": {
    "id": "VkUXIvwxk1Rf"
   },
   "outputs": [],
   "source": [
    "# Split data into train and test sets, 20% test size, and random_state is 0\n",
    "X_train, X_test, y_train, y_test = train_test_split(X, y, test_size=0.20, random_state=0)"
   ]
  },
  {
   "cell_type": "markdown",
   "metadata": {
    "id": "le2EvRFcmEQV"
   },
   "source": [
    "## 2.5. Regression Model\n",
    "`LogisticRegression(multi_class=\"multinomial\",solver=\"lbfgs\", penalty=\"l2\", C=C, random_state=0, max_iter=1000)`\n",
    "- `multi_class = \"multinomial` means that the loss function that is being minimised is the multinomial loss over the entire distribution, even if the data is binary (classification)\n",
    "- `solver = \"lbfgs\"` is the choice of solver algorithm. \"lbfgs\" stands for the Limited-memory Broyden-Fletcher-Goldfarb-Shanno algorithm, which is the default for `LogisticRegression` in sklearn. It's a kind of memory-efficient gradient descent using Newton's method, useful for data with an elongated shape.\n",
    "- `penalty = \"l2\"` means that the regularization term is the $\\ell_{2}$ norm (euclidean distance), or the square root of all components of each vector squared.\n",
    "- `C = C` is the inverse of the regularization strength, which is the hyper-parameter we will optimize\n",
    "- `random_state = 0` ensures that the data is shuffled the same across all different instantiations of the regressor\n",
    "- `max_iter = 1000` is the maximum number of iterations taken for the solvers to converge to an approximation\n",
    "\n"
   ]
  },
  {
   "cell_type": "markdown",
   "metadata": {
    "id": "LMZOcOzkoI4r"
   },
   "source": [
    "## 3. Optimizing Hyperparameter"
   ]
  },
  {
   "cell_type": "code",
   "execution_count": 10,
   "metadata": {
    "id": "ha3eVst2oMHt"
   },
   "outputs": [],
   "source": [
    "# List of options for C parameter from prompt\n",
    "Cparams= [1E-5,1E-4,1E-3,1E-2,1E-1,1E0]\n",
    "\n",
    "# Empty list for error results\n",
    "resultlist = []\n",
    "\n",
    "# Had to increase max_iterations to 10000, solver was not converging for any 1000 iterations\n",
    "# Take kfold CV score, and take 1-score to get error for each option of C\n",
    "for c in Cparams:\n",
    "  logistic_regressor = LogisticRegression(multi_class=\"multinomial\", solver=\"lbfgs\", penalty=\"l2\", C=c, random_state=0, max_iter=10000)\n",
    "  kfold_scores = cross_val_score(logistic_regressor, X_train, y_train, cv = 4)\n",
    "  kfold_errors = [1-s for s in kfold_scores]\n",
    "  resultlist.append([c, kfold_errors, np.mean(kfold_errors)])"
   ]
  },
  {
   "cell_type": "code",
   "execution_count": 11,
   "metadata": {
    "colab": {
     "base_uri": "https://localhost:8080/"
    },
    "id": "apLn-YUPoOkY",
    "outputId": "cafdb728-e5d0-406d-90d2-b15ea51bad99"
   },
   "outputs": [
    {
     "name": "stdout",
     "output_type": "stream",
     "text": [
      "     C  CV_ERRORS                                                                                CV_MEAN\n",
      "------  -------------------------------------------------------------------------------------  ---------\n",
      "1e-05   [0.16388888888888886, 0.1643454038997214, 0.15320334261838442, 0.14763231197771587]    0.157267\n",
      "0.0001  [0.0888888888888889, 0.08635097493036215, 0.07520891364902504, 0.06128133704735372]    0.0779325\n",
      "0.001   [0.050000000000000044, 0.05013927576601673, 0.05013927576601673, 0.03899721448467963]  0.0473189\n",
      "0.01    [0.03888888888888886, 0.027855153203342642, 0.04178272980501396, 0.01949860724233987]  0.0320063\n",
      "0.1     [0.033333333333333326, 0.04178272980501396, 0.04178272980501396, 0.02228412256267409]  0.0347957\n",
      "1       [0.036111111111111094, 0.03899721448467963, 0.04178272980501396, 0.02506963788300831]  0.0354902\n"
     ]
    }
   ],
   "source": [
    "# Print the results for each C value\n",
    "print(tabulate(resultlist, headers = [\"C\", \"CV_ERRORS\", \"CV_MEAN\"]))"
   ]
  },
  {
   "cell_type": "code",
   "execution_count": 12,
   "metadata": {
    "colab": {
     "base_uri": "https://localhost:8080/"
    },
    "id": "hu6LxLy8tEow",
    "outputId": "ab7e9c75-5f38-4d06-9d2d-6aaab003f43c"
   },
   "outputs": [
    {
     "name": "stdout",
     "output_type": "stream",
     "text": [
      "Best C: 0.01\n"
     ]
    }
   ],
   "source": [
    "# Print the C value with the lowest mean CV error\n",
    "errorlist = [e[2] for e in resultlist]\n",
    "print(\"Best C:\", resultlist[np.argmin(errorlist)][0])"
   ]
  },
  {
   "cell_type": "markdown",
   "metadata": {
    "id": "2EYka0hW-JfY"
   },
   "source": [
    "##4. Optimized Training"
   ]
  },
  {
   "cell_type": "code",
   "execution_count": 13,
   "metadata": {
    "colab": {
     "base_uri": "https://localhost:8080/"
    },
    "id": "OSRl2Fpm-LCW",
    "outputId": "26836360-eff9-439b-f5b4-a039a360f5a0"
   },
   "outputs": [
    {
     "data": {
      "text/plain": [
       "LogisticRegression(C=0.01, max_iter=10000, multi_class='multinomial',\n",
       "                   random_state=0)"
      ]
     },
     "execution_count": 13,
     "metadata": {},
     "output_type": "execute_result"
    }
   ],
   "source": [
    "# Fit optimal regressor to all training data\n",
    "opt_logistic_regressor = logistic_regressor = LogisticRegression(multi_class=\"multinomial\", solver=\"lbfgs\", penalty=\"l2\", C=0.01, random_state=0, max_iter=10000)\n",
    "opt_logistic_regressor.fit(X_train, y_train)"
   ]
  },
  {
   "cell_type": "code",
   "execution_count": 14,
   "metadata": {
    "colab": {
     "base_uri": "https://localhost:8080/"
    },
    "id": "x0qurKVw-Qbo",
    "outputId": "d71fb3b2-eae4-4bc1-9ab7-e506617e2aaf"
   },
   "outputs": [
    {
     "name": "stdout",
     "output_type": "stream",
     "text": [
      "Test error: 1.0361\n",
      "Train error: 0.1955\n"
     ]
    }
   ],
   "source": [
    "y_train_predict = opt_logistic_regressor.predict(X_train)\n",
    "y_test_predict = opt_logistic_regressor.predict(X_test)\n",
    "opt_logistic_test_error = mean_squared_error(y_test, y_test_predict)\n",
    "opt_logistic_train_error = mean_squared_error(y_train, y_train_predict)\n",
    "\n",
    "print(\"Test error: %.4f\" %(opt_logistic_test_error))\n",
    "print(\"Train error: %.4f\" %(opt_logistic_train_error))"
   ]
  },
  {
   "cell_type": "markdown",
   "metadata": {
    "id": "i-mha5JcCZTU"
   },
   "source": [
    "##5. Repeating Hyperparameter Search with 'saga' Solver"
   ]
  },
  {
   "cell_type": "code",
   "execution_count": 15,
   "metadata": {
    "id": "3LYtZhT4CdXH"
   },
   "outputs": [],
   "source": [
    "# List of options for C parameter from prompt\n",
    "Cparams= [1E-5,1E-4,1E-3,1E-2,1E-1,1E0]\n",
    "\n",
    "# Empty list for error results\n",
    "resultlist = []\n",
    "\n",
    "# Had to increase max_iterations to 10000, solver was not converging for any 1000 iterations\n",
    "# Take kfold CV score, and take 1-score to get error for each option of C\n",
    "for c in Cparams:\n",
    "  logistic_regressor = LogisticRegression(multi_class=\"multinomial\", penalty=\"l1\", C=c, random_state=0, max_iter=10000, solver='saga')\n",
    "  kfold_scores = cross_val_score(logistic_regressor, X_train, y_train, cv = 4)\n",
    "  kfold_errors = [1-s for s in kfold_scores]\n",
    "  resultlist.append([c, kfold_errors, np.mean(kfold_errors)])"
   ]
  },
  {
   "cell_type": "code",
   "execution_count": 16,
   "metadata": {
    "colab": {
     "base_uri": "https://localhost:8080/"
    },
    "id": "x7K8OqA9D7cF",
    "outputId": "3049d3b8-4a74-4d26-ea44-2d36713088b6"
   },
   "outputs": [
    {
     "name": "stdout",
     "output_type": "stream",
     "text": [
      "     C  CV_ERRORS                                                                               CV_MEAN\n",
      "------  ------------------------------------------------------------------------------------  ---------\n",
      "1e-05   [0.8944444444444445, 0.8941504178272981, 0.8969359331476323, 0.8941504178272981]      0.89492\n",
      "0.0001  [0.8944444444444445, 0.8941504178272981, 0.8969359331476323, 0.8941504178272981]      0.89492\n",
      "0.001   [0.8138888888888889, 0.7938718662952646, 0.8050139275766017, 0.8050139275766017]      0.804447\n",
      "0.01    [0.07777777777777772, 0.0919220055710307, 0.07799442896935938, 0.058495821727019504]  0.0765475\n",
      "0.1     [0.0444444444444444, 0.03064066852367686, 0.04178272980501396, 0.03064066852367686]   0.0368771\n",
      "1       [0.047222222222222276, 0.03342618384401119, 0.0473537604456824, 0.03899721448467963]  0.0417498\n"
     ]
    }
   ],
   "source": [
    "# Print the results for each C value\n",
    "print(tabulate(resultlist, headers = [\"C\", \"CV_ERRORS\", \"CV_MEAN\"]))"
   ]
  },
  {
   "cell_type": "code",
   "execution_count": 17,
   "metadata": {},
   "outputs": [
    {
     "name": "stdout",
     "output_type": "stream",
     "text": [
      "Best C: 0.1\n"
     ]
    }
   ],
   "source": [
    "# Print the C value with the lowest mean CV error\n",
    "errorlist = [e[2] for e in resultlist]\n",
    "print(\"Best C:\", resultlist[np.argmin(errorlist)][0])"
   ]
  },
  {
   "cell_type": "code",
   "execution_count": 18,
   "metadata": {
    "colab": {
     "base_uri": "https://localhost:8080/"
    },
    "id": "iYUWuGd4FC9J",
    "outputId": "3b0cc135-0272-481b-8eaa-7ad142f344b8"
   },
   "outputs": [
    {
     "data": {
      "text/plain": [
       "LogisticRegression(C=0.1, max_iter=1000, multi_class='multinomial',\n",
       "                   penalty='l1', random_state=0, solver='saga')"
      ]
     },
     "execution_count": 18,
     "metadata": {},
     "output_type": "execute_result"
    }
   ],
   "source": [
    "# Fit optimal regressor to all training data\n",
    "opt_logistic_regressor = logistic_regressor = LogisticRegression(multi_class=\"multinomial\", penalty=\"l1\", C=0.1, random_state=0, max_iter=1000, solver='saga')\n",
    "opt_logistic_regressor.fit(X_train, y_train)"
   ]
  },
  {
   "cell_type": "code",
   "execution_count": 19,
   "metadata": {
    "colab": {
     "base_uri": "https://localhost:8080/"
    },
    "id": "oftK5QN8F489",
    "outputId": "b6f98228-0b89-4097-b4c7-eb348f1d8602"
   },
   "outputs": [
    {
     "name": "stdout",
     "output_type": "stream",
     "text": [
      "Test error: 1.0806\n",
      "Train error: 0.2373\n"
     ]
    }
   ],
   "source": [
    "y_train_predict = opt_logistic_regressor.predict(X_train)\n",
    "y_test_predict = opt_logistic_regressor.predict(X_test)\n",
    "opt_logistic_test_error = mean_squared_error(y_test, y_test_predict)\n",
    "opt_logistic_train_error = mean_squared_error(y_train, y_train_predict)\n",
    "\n",
    "print(\"Test error: %.4f\" %(opt_logistic_test_error))\n",
    "print(\"Train error: %.4f\" %(opt_logistic_train_error))"
   ]
  }
 ],
 "metadata": {
  "colab": {
   "provenance": []
  },
  "kernelspec": {
   "display_name": "Python 3 (ipykernel)",
   "language": "python",
   "name": "python3"
  },
  "language_info": {
   "codemirror_mode": {
    "name": "ipython",
    "version": 3
   },
   "file_extension": ".py",
   "mimetype": "text/x-python",
   "name": "python",
   "nbconvert_exporter": "python",
   "pygments_lexer": "ipython3",
   "version": "3.8.13 | packaged by conda-forge | (default, Mar 25 2022, 06:06:49) \n[Clang 12.0.1 ]"
  },
  "vscode": {
   "interpreter": {
    "hash": "4be3729a2cd8a1b0e6b1166f63eb2d13249f10a5233f501d7bc9ba2fd02b9e52"
   }
  }
 },
 "nbformat": 4,
 "nbformat_minor": 4
}
