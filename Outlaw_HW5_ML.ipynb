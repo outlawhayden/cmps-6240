{
 "cells": [
  {
   "cell_type": "markdown",
   "id": "b788bf05-40c6-4001-a314-48837be5b97b",
   "metadata": {
    "tags": []
   },
   "source": [
    "## Instructions\n",
    "\n",
    "We will train polynomial SVC in this homework.\n",
    "\n",
    "Use the seed 0 everywhere.\n",
    "\n",
    "1. First, generate the two moon data as follows:\n",
    "\n",
    "\"X, y = make_moons(n_samples=200, noise=0.3, random_state=0)\"\n",
    "\n",
    "Plot the data.\n",
    "\n",
    "Randomly split the data into 80% training data and 20% testing data. Then split the training data again into 75% training data and 25% validation data. Keep this split fixed throughout the experiments.\n",
    "\n",
    "2. For each combinations of Cs = [1E-3,1E-2,1E-1,1E0,1E1,1E2,1E3] and ds = [2,3,4]\n",
    "(a) create a pipeline of polynomial features of degree d, standard scaler and linear SVC with the hyperparameter C\n",
    "(b) call fit(),\n",
    "(c) call predict() and measure training and validation error\n",
    "Report the training and validation error for each combination.\n",
    "\n",
    "3. Which combination has the smallest validation error? (You can manually find the minimum or you can use \"i, j = np.unravel_index(np.argmin(val_errors, axis=None), val_errors.shape)\" )\n",
    "\n",
    "4. Repeat 2 with a pipeline of standard scaler and SVC with the polynomial kernel of degree d, coef0=1, and the hyperparameter C.\n",
    "\n",
    "5. Repeat 3 with a pipeline of standard scaler and SVC .... (same as above)\n",
    "\n",
    "6. Should the results of 3 and 5 be identical? Or if not, why? Please comment."
   ]
  },
  {
   "cell_type": "markdown",
   "id": "08cecb2c-7f0d-4354-825c-e24612736803",
   "metadata": {
    "jp-MarkdownHeadingCollapsed": true,
    "tags": []
   },
   "source": [
    "## 0. Importing Libraries"
   ]
  },
  {
   "cell_type": "code",
   "execution_count": 1,
   "id": "1b9a8e2b-242e-4991-98e2-9f5cca2133e2",
   "metadata": {},
   "outputs": [],
   "source": [
    "import sklearn\n",
    "from sklearn.datasets import make_moons\n",
    "from sklearn.svm import LinearSVC\n",
    "from sklearn.svm import SVC\n",
    "from sklearn.model_selection import train_test_split\n",
    "from sklearn.pipeline import Pipeline\n",
    "from sklearn.preprocessing import StandardScaler\n",
    "from sklearn.preprocessing import PolynomialFeatures\n",
    "from sklearn.metrics import mean_squared_error\n",
    "import numpy as np\n",
    "import pandas\n",
    "import os\n",
    "import matplotlib as mpl\n",
    "import matplotlib.pyplot as plt\n",
    "from tabulate import tabulate"
   ]
  },
  {
   "cell_type": "markdown",
   "id": "740690ad-904a-4459-868e-67ecf1f78a23",
   "metadata": {
    "jp-MarkdownHeadingCollapsed": true,
    "tags": []
   },
   "source": [
    "## 1. Data Generation"
   ]
  },
  {
   "cell_type": "code",
   "execution_count": 2,
   "id": "7e16a9e9-6589-4fef-862f-1c697c55eaf6",
   "metadata": {},
   "outputs": [
    {
     "data": {
      "image/png": "[encoded data removed]",
      "text/plain": [
       "<Figure size 640x480 with 1 Axes>"
      ]
     },
     "metadata": {},
     "output_type": "display_data"
    }
   ],
   "source": [
    "# Generating random data using sklearn.datasets.make_moons\n",
    "X, y = make_moons(n_samples=200, noise=0.3, random_state=0)\n",
    "\n",
    "# Splitting data into train and test sets, and then training and validation sets\n",
    "X_train, X_test, y_train, y_test = train_test_split(X,y, test_size = 0.20, random_state = 0)\n",
    "X_train_train, X_train_val, y_train_train, y_train_val = train_test_split(X_train, y_train, test_size = 0.25, random_state = 0)\n",
    "\n",
    "# Plot make_moons data, features separated by color\n",
    "plt.plot(X[:, 0][y==1], X[:, 1][y==1], \"b^\")\n",
    "plt.plot(X[:, 0][y==0], X[:, 1][y==0], \"g^\")\n",
    "plt.xlabel(r\"$x_1$\", fontsize=20)\n",
    "plt.ylabel(r\"$x_2$\", fontsize=20)\n",
    "\n",
    "plt.show()"
   ]
  },
  {
   "cell_type": "markdown",
   "id": "876ceb77-02ce-48f3-acd8-983fc5b62f51",
   "metadata": {
    "jp-MarkdownHeadingCollapsed": true,
    "tags": []
   },
   "source": [
    "## 2. Pipeline/Hyper-Parameter Search"
   ]
  },
  {
   "cell_type": "code",
   "execution_count": 3,
   "id": "f2586dd4-ab50-418a-844f-15dc3246b8d7",
   "metadata": {},
   "outputs": [
    {
     "name": "stdout",
     "output_type": "stream",
     "text": [
      "       C    DIMENSIONS    TRAIN_ERROR    VAL_ERROR\n",
      "--------  ------------  -------------  -----------\n",
      "   0.001             2       0.166667        0.2\n",
      "   0.001             3       0.175           0.15\n",
      "   0.001             4       0.166667        0.2\n",
      "   0.01              2       0.166667        0.175\n",
      "   0.01              3       0.166667        0.175\n",
      "   0.01              4       0.158333        0.175\n",
      "   0.1               2       0.166667        0.175\n",
      "   0.1               3       0.166667        0.125\n",
      "   0.1               4       0.133333        0.125\n",
      "   1                 2       0.166667        0.15\n",
      "   1                 3       0.133333        0.075\n",
      "   1                 4       0.116667        0.1\n",
      "  10                 2       0.166667        0.15\n",
      "  10                 3       0.116667        0.05\n",
      "  10                 4       0.116667        0.05\n",
      " 100                 2       0.166667        0.15\n",
      " 100                 3       0.133333        0.05\n",
      " 100                 4       0.116667        0.075\n",
      "1000                 2       0.166667        0.15\n",
      "1000                 3       0.133333        0.05\n",
      "1000                 4       0.1             0.1\n"
     ]
    }
   ],
   "source": [
    "CList =  [1E-3,1E-2,1E-1,1E0,1E1,1E2,1E3]\n",
    "dList = [2,3,4]\n",
    "\n",
    "results = []\n",
    "\n",
    "for c in CList:\n",
    "    for d in dList:\n",
    "        # Create and fit pipeline with polynomial features of degree d, sdandard scaler, and linearSVC with C = c\n",
    "        # dual = False because number of samples > number of parameters, max_iter left unchecked\n",
    "        pipe = Pipeline([('poly', PolynomialFeatures(degree = d)), ('scaler', StandardScaler()),('linearsvc', LinearSVC(random_state = 0, C = c, dual = False))])\n",
    "        pipe.fit(X_train_train, y_train_train)\n",
    "        \n",
    "        # Get training error\n",
    "        pipe_train_predict = pipe.predict(X_train_train)\n",
    "        train_error = mean_squared_error(pipe_train_predict, y_train_train)\n",
    "        \n",
    "        # Get validation error\n",
    "        pipe_val_predict = pipe.predict(X_train_val)\n",
    "        val_error = mean_squared_error(pipe_val_predict, y_train_val)\n",
    "        results.append([c, d, train_error, val_error])\n",
    "    \n",
    "# Tabulate Results\n",
    "print(tabulate(results, headers = [\"C\", \"DIMENSIONS\", \"TRAIN_ERROR\", \"VAL_ERROR\"]))"
   ]
  },
  {
   "cell_type": "markdown",
   "id": "120a8582-326f-43e3-9594-e0f8263dc588",
   "metadata": {
    "jp-MarkdownHeadingCollapsed": true,
    "tags": []
   },
   "source": [
    "## 3. Optimization"
   ]
  },
  {
   "cell_type": "code",
   "execution_count": 4,
   "id": "2e95a773-ba94-44d3-92c4-92e817ea8c3e",
   "metadata": {},
   "outputs": [
    {
     "name": "stdout",
     "output_type": "stream",
     "text": [
      "The best combination of parameters is (c = 10.000, d = 3), with a training error of 0.1167 and a validation error of 0.0500\n"
     ]
    }
   ],
   "source": [
    "errorList = [r[3] for r in results]\n",
    "min_error = min(errorList)\n",
    "min_index = errorList.index(min(errorList))\n",
    "\n",
    "print(\"The best combination of parameters is (c = %.3f, d = %d), with a training error of %.4f and a validation error of %.4f\"%(results[min_index][0],results[min_index][1],results[min_index][2],results[min_index][3]))"
   ]
  },
  {
   "cell_type": "markdown",
   "id": "cd3dbaff-94a6-4d59-9474-79b1a2768b54",
   "metadata": {
    "jp-MarkdownHeadingCollapsed": true,
    "tags": []
   },
   "source": [
    "## 4. Pipeline/Hyper-Parameter Search II"
   ]
  },
  {
   "cell_type": "code",
   "execution_count": 5,
   "id": "c0b4010f-6996-42e8-be9f-9ef160c3abf1",
   "metadata": {},
   "outputs": [
    {
     "name": "stdout",
     "output_type": "stream",
     "text": [
      "       C    DIMENSIONS    TRAIN_ERROR    VAL_ERROR\n",
      "--------  ------------  -------------  -----------\n",
      "   0.001             2       0.483333        0.5\n",
      "   0.001             3       0.45            0.475\n",
      "   0.001             4       0.25            0.25\n",
      "   0.01              2       0.175           0.2\n",
      "   0.01              3       0.166667        0.2\n",
      "   0.01              4       0.166667        0.175\n",
      "   0.1               2       0.166667        0.175\n",
      "   0.1               3       0.166667        0.15\n",
      "   0.1               4       0.133333        0.125\n",
      "   1                 2       0.166667        0.175\n",
      "   1                 3       0.133333        0.075\n",
      "   1                 4       0.125           0.125\n",
      "  10                 2       0.166667        0.175\n",
      "  10                 3       0.133333        0.075\n",
      "  10                 4       0.125           0.05\n",
      " 100                 2       0.166667        0.175\n",
      " 100                 3       0.125           0.05\n",
      " 100                 4       0.116667        0.1\n",
      "1000                 2       0.166667        0.175\n",
      "1000                 3       0.125           0.05\n",
      "1000                 4       0.1             0.175\n"
     ]
    }
   ],
   "source": [
    "CList =  [1E-3,1E-2,1E-1,1E0,1E1,1E2,1E3]\n",
    "dList = [2,3,4]\n",
    "\n",
    "results = []\n",
    "\n",
    "for c in CList:\n",
    "    for d in dList:\n",
    "        # Create and fit pipeline with standard scaler and poly kernel svc\n",
    "        pipe = Pipeline([('scaler', StandardScaler()),('svc', SVC(random_state = 0, C = c, kernel = 'poly', coef0 =1, degree = d))])\n",
    "        pipe.fit(X_train_train, y_train_train)\n",
    "        \n",
    "        # Get training error\n",
    "        pipe_train_predict = pipe.predict(X_train_train)\n",
    "        train_error = mean_squared_error(pipe_train_predict, y_train_train)\n",
    "        \n",
    "        # Get validation error\n",
    "        pipe_val_predict = pipe.predict(X_train_val)\n",
    "        val_error = mean_squared_error(pipe_val_predict, y_train_val)\n",
    "        results.append([c, d, train_error, val_error])\n",
    "    \n",
    "# Tabulate Results\n",
    "print(tabulate(results, headers = [\"C\", \"DIMENSIONS\", \"TRAIN_ERROR\", \"VAL_ERROR\"]))"
   ]
  },
  {
   "cell_type": "markdown",
   "id": "ff39695e-d4a1-4ae2-856e-ae2fd6ba5f84",
   "metadata": {
    "jp-MarkdownHeadingCollapsed": true,
    "tags": []
   },
   "source": [
    "## 5. Optimization II"
   ]
  },
  {
   "cell_type": "code",
   "execution_count": 6,
   "id": "6f782e9e-14f2-4596-8155-64f3d171cecb",
   "metadata": {},
   "outputs": [
    {
     "name": "stdout",
     "output_type": "stream",
     "text": [
      "The best combination of parameters is (c = 10.000, d = 4), with a training error of 0.1250 and a validation error of 0.0500\n"
     ]
    }
   ],
   "source": [
    "errorList = [r[3] for r in results]\n",
    "min_error = min(errorList)\n",
    "min_index = errorList.index(min(errorList))\n",
    "\n",
    "print(\"The best combination of parameters is (c = %.3f, d = %d), with a training error of %.4f and a validation error of %.4f\"%(results[min_index][0],results[min_index][1],results[min_index][2],results[min_index][3]))"
   ]
  },
  {
   "cell_type": "markdown",
   "id": "ee59baf6-cbf5-47db-a67e-8f612ea06e57",
   "metadata": {
    "jp-MarkdownHeadingCollapsed": true,
    "tags": []
   },
   "source": [
    "## 6. Comparing Results"
   ]
  },
  {
   "cell_type": "markdown",
   "id": "98112580-b644-4586-a5d9-de431da2c9a9",
   "metadata": {},
   "source": [
    "*The actual parameters can be different, since the methods of doing the regression underneath are different (ie LinearSVC is one-vs-rest whereas SVC is one-vs-one, and both run on different underlying libraries). However, the resulting training and testing errors are very similar.*"
   ]
  }
 ],
 "metadata": {
  "kernelspec": {
   "display_name": "Python 3.8.13 ('base')",
   "language": "python",
   "name": "python3"
  },
  "language_info": {
   "codemirror_mode": {
    "name": "ipython",
    "version": 3
   },
   "file_extension": ".py",
   "mimetype": "text/x-python",
   "name": "python",
   "nbconvert_exporter": "python",
   "pygments_lexer": "ipython3",
   "version": "3.8.13"
  },
  "vscode": {
   "interpreter": {
    "hash": "4be3729a2cd8a1b0e6b1166f63eb2d13249f10a5233f501d7bc9ba2fd02b9e52"
   }
  }
 },
 "nbformat": 4,
 "nbformat_minor": 5
}
