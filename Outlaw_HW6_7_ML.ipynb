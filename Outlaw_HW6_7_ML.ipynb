{
  "nbformat": 4,
  "nbformat_minor": 0,
  "metadata": {
    "colab": {
      "provenance": [],
      "collapsed_sections": []
    },
    "kernelspec": {
      "name": "python3",
      "display_name": "Python 3"
    },
    "language_info": {
      "name": "python"
    }
  },
  "cells": [
    {
      "cell_type": "markdown",
      "source": [
        "We will train Random Forest classifier and Gradient Boosting classifier for MNIST.\n",
        "\n",
        "Use the seed 0 everywhere.\n",
        "\n",
        "1. Import MNIST data as we did in Lecture 7. We are only going to use digit 0 and digit 1. So extract only those examples and discard the rest.\n",
        "\n",
        "Next, randomly split the data into 80% training data and 20% testing data. Then split the training data again into 75% training data and 25% validation data. Keep this split fixed throughout the experiments.\n",
        "\n",
        "2. Use the validation set to choose the optimal hyperparameters \"n_estimators\" and \"max_depth\" for Random Forest, and report the best hyperparameters and the best validation error. The suggested hyperparameter values are\n",
        "\n",
        "ns_estimators = [10,20,50,100,200]\n",
        "max_depths = [1,2,5,10,20]\n",
        "\n",
        "3. Train Random Forest again with all data (i.e., training + validation data). Report the training and the test error.\n",
        "\n",
        "4. Plot the feature importance as an image, as we did in Lecture 7.\n",
        "\n",
        "5. Repeat 2 with Gradient Boosting.\n",
        "\n",
        "6. Repeat 3 with Gradient Boosting\n",
        "\n",
        "7. Repeat 4 with Gradient Boosting."
      ],
      "metadata": {
        "id": "uqxTqmlLJ_wk"
      }
    },
    {
      "cell_type": "markdown",
      "source": [
        "##0. Libraries"
      ],
      "metadata": {
        "id": "zPJVn_UIKDG4"
      }
    },
    {
      "cell_type": "code",
      "source": [
        "from sklearn.datasets import fetch_openml\n",
        "from sklearn.model_selection import train_test_split\n",
        "import numpy as np\n",
        "from sklearn.ensemble import RandomForestClassifier\n",
        "from sklearn.ensemble import GradientBoostingClassifier\n",
        "from sklearn.metrics import mean_squared_error\n",
        "from tabulate import tabulate\n",
        "import matplotlib.pyplot as plt\n",
        "import matplotlib as mpl"
      ],
      "metadata": {
        "id": "rAd2AVHpLmh1"
      },
      "execution_count": 2,
      "outputs": []
    },
    {
      "cell_type": "markdown",
      "source": [
        "##1. Loading Data\n"
      ],
      "metadata": {
        "id": "AyD-4QNSKDOJ"
      }
    },
    {
      "cell_type": "code",
      "source": [
        "mnist = fetch_openml('mnist_784')"
      ],
      "metadata": {
        "id": "WUgDiL9kLskS"
      },
      "execution_count": 3,
      "outputs": []
    },
    {
      "cell_type": "code",
      "source": [
        "# Load in all mnist data\n",
        "Xraw, yraw = mnist['data'], mnist['target']\n",
        "# pd.Dataframe, pd.Series\n",
        "\n",
        "# Slice out only 0 and 1 data\n",
        "indices = [i for i in range(len(Xraw)) if (yraw[i] == '0' or yraw[i] == '1')]\n",
        "y = yraw[indices]\n",
        "X = Xraw.loc[indices]\n",
        "\n",
        "# Split and resplit dataset\n",
        "X_train, X_test, y_train, y_test = train_test_split(X, y, test_size = 0.2, random_state = 0)\n",
        "X_train_train, X_train_val, y_train_train, y_train_val = train_test_split(X_train, y_train, test_size = 0.25, random_state = 0)"
      ],
      "metadata": {
        "id": "ZJKoEQmrMEiY"
      },
      "execution_count": 4,
      "outputs": []
    },
    {
      "cell_type": "markdown",
      "source": [
        "##2. Hyperparameter Search"
      ],
      "metadata": {
        "id": "-D_VZ-PoKDUq"
      }
    },
    {
      "cell_type": "code",
      "source": [
        "ns_estimators = [10,20,50,100,200]\n",
        "max_depths = [1,2,5,10,20]\n",
        "\n",
        "rfcdata = []\n",
        "\n",
        "\n",
        "# Iterate through parameter list\n",
        "for n in ns_estimators:\n",
        "  for d in max_depths:\n",
        "    # Create classifier\n",
        "    rfc = RandomForestClassifier(max_depth = d, random_state = 0, n_estimators = n)\n",
        "    # Fit classifier\n",
        "    rfc.fit(X_train_train, y_train_train)\n",
        "    # Get val MSE, append to array\n",
        "    rfc_predict = rfc.predict(X_train_val)\n",
        "    val_error = mean_squared_error(y_train_val, rfc_predict)\n",
        "    rfcdata.append([n,d,val_error])\n",
        "\n",
        "# Tabulate array, find minimum\n",
        "print(tabulate(rfcdata, headers = [\"N_estimators\",\"Max_depths\", \"MSE\"], tablefmt = 'grid'))\n",
        "print()\n",
        "print(min(rfcdata, key = lambda x: x[2]))"
      ],
      "metadata": {
        "colab": {
          "base_uri": "https://localhost:8080/"
        },
        "id": "zR9wS0abSJCP",
        "outputId": "918bee14-7ea1-469f-c04d-f510223f46f5"
      },
      "execution_count": 5,
      "outputs": [
        {
          "output_type": "stream",
          "name": "stdout",
          "text": [
            "+----------------+--------------+-------------+\n",
            "|   N_estimators |   Max_depths |         MSE |\n",
            "+================+==============+=============+\n",
            "|             10 |            1 | 0.0104871   |\n",
            "+----------------+--------------+-------------+\n",
            "|             10 |            2 | 0.00405954  |\n",
            "+----------------+--------------+-------------+\n",
            "|             10 |            5 | 0.00067659  |\n",
            "+----------------+--------------+-------------+\n",
            "|             10 |           10 | 0.00169147  |\n",
            "+----------------+--------------+-------------+\n",
            "|             10 |           20 | 0.00169147  |\n",
            "+----------------+--------------+-------------+\n",
            "|             20 |            1 | 0.0125169   |\n",
            "+----------------+--------------+-------------+\n",
            "|             20 |            2 | 0.00338295  |\n",
            "+----------------+--------------+-------------+\n",
            "|             20 |            5 | 0.00101488  |\n",
            "+----------------+--------------+-------------+\n",
            "|             20 |           10 | 0.00101488  |\n",
            "+----------------+--------------+-------------+\n",
            "|             20 |           20 | 0.00135318  |\n",
            "+----------------+--------------+-------------+\n",
            "|             50 |            1 | 0.00541272  |\n",
            "+----------------+--------------+-------------+\n",
            "|             50 |            2 | 0.00169147  |\n",
            "+----------------+--------------+-------------+\n",
            "|             50 |            5 | 0.00101488  |\n",
            "+----------------+--------------+-------------+\n",
            "|             50 |           10 | 0.00101488  |\n",
            "+----------------+--------------+-------------+\n",
            "|             50 |           20 | 0.00101488  |\n",
            "+----------------+--------------+-------------+\n",
            "|            100 |            1 | 0.00405954  |\n",
            "+----------------+--------------+-------------+\n",
            "|            100 |            2 | 0.00135318  |\n",
            "+----------------+--------------+-------------+\n",
            "|            100 |            5 | 0.00067659  |\n",
            "+----------------+--------------+-------------+\n",
            "|            100 |           10 | 0.000338295 |\n",
            "+----------------+--------------+-------------+\n",
            "|            100 |           20 | 0.00067659  |\n",
            "+----------------+--------------+-------------+\n",
            "|            200 |            1 | 0.00338295  |\n",
            "+----------------+--------------+-------------+\n",
            "|            200 |            2 | 0.00135318  |\n",
            "+----------------+--------------+-------------+\n",
            "|            200 |            5 | 0.00067659  |\n",
            "+----------------+--------------+-------------+\n",
            "|            200 |           10 | 0.000338295 |\n",
            "+----------------+--------------+-------------+\n",
            "|            200 |           20 | 0.000338295 |\n",
            "+----------------+--------------+-------------+\n",
            "\n",
            "[100, 10, 0.00033829499323410016]\n"
          ]
        }
      ]
    },
    {
      "cell_type": "markdown",
      "source": [
        "**The optimal hyperparameters are 100 estimators, a max depth of 10, for a validation MSE of 0.000338294**"
      ],
      "metadata": {
        "id": "9HpG9NRZ5SG6"
      }
    },
    {
      "cell_type": "markdown",
      "source": [
        "##3. Final Validation"
      ],
      "metadata": {
        "id": "wjfVsJF2KDYT"
      }
    },
    {
      "cell_type": "code",
      "source": [
        "rfc_opt = RandomForestClassifier(max_depth = 10, random_state = 0, n_estimators = 100)\n",
        "\n",
        "rfc_opt.fit(X_train, y_train)\n",
        "rfc_opt_train_pred = rfc_opt.predict(X_train)\n",
        "rfc_opt_test_pred = rfc_opt.predict(X_test)\n",
        "train_mse = mean_squared_error(y_train, rfc_opt_train_pred)\n",
        "test_mse = mean_squared_error(y_test, rfc_opt_test_pred)\n",
        "\n",
        "print(\"Train MSE: %f, Test MSE: %f\"%(train_mse, test_mse))"
      ],
      "metadata": {
        "colab": {
          "base_uri": "https://localhost:8080/"
        },
        "id": "PpBa92sX6KLI",
        "outputId": "33e98b67-f782-4014-803f-2fdefd194d6d"
      },
      "execution_count": 6,
      "outputs": [
        {
          "output_type": "stream",
          "name": "stdout",
          "text": [
            "Train MSE: 0.000000, Test MSE: 0.001015\n"
          ]
        }
      ]
    },
    {
      "cell_type": "markdown",
      "source": [
        "**Train MSE: 0.000000, Test MSE: 0.001015**\n",
        "\n",
        "*Note that the Train MSE is probably less than the given rounding precision*\n"
      ],
      "metadata": {
        "id": "bY3fKsKk7oPp"
      }
    },
    {
      "cell_type": "markdown",
      "source": [
        "##4. Feature Importance"
      ],
      "metadata": {
        "id": "uclqxeWuKDbr"
      }
    },
    {
      "cell_type": "code",
      "source": [
        "def plot_digit(data):\n",
        "  # Reshape image to grid\n",
        "  image = data.reshape(28,28)\n",
        "  # Show image\n",
        "  plt.imshow(image, cmap = mpl.cm.hot, interpolation = \"nearest\")\n",
        "  plt.axis(\"off\")\n",
        "\n",
        "# Plot grid of feature_importances\n",
        "plot_digit(rfc_opt.feature_importances_)\n",
        "\n",
        "# Set colorbar\n",
        "cbar = plt.colorbar(ticks = [rfc_opt.feature_importances_.min(), rfc_opt.feature_importances_.max()])\n",
        "cbar.ax.set_yticklabels([\"Low Importance\", \"High Importance\"])\n",
        "\n",
        "plt.show()"
      ],
      "metadata": {
        "colab": {
          "base_uri": "https://localhost:8080/",
          "height": 258
        },
        "id": "2I6tfh_i73P1",
        "outputId": "b1d7bf9c-604e-4cd3-ea57-367f1bbb7438"
      },
      "execution_count": 7,
      "outputs": [
        {
          "output_type": "display_data",
          "data": {
            "text/plain": [
              "<Figure size 432x288 with 2 Axes>"
            ],
            "image/png": "[encoded data removed]"
          },
          "metadata": {
            "needs_background": "light"
          }
        }
      ]
    },
    {
      "cell_type": "markdown",
      "source": [
        "##5. Boosted Hyperparameter Search"
      ],
      "metadata": {
        "id": "nu-Y7dTuKDfX"
      }
    },
    {
      "cell_type": "code",
      "source": [
        "ns_estimators = [10,20,50,100,200]\n",
        "max_depths = [1,2,5,10,20]\n",
        "\n",
        "gbcdata = []\n",
        "\n",
        "# Iterate through parameter list\n",
        "for n in ns_estimators:\n",
        "  for d in max_depths:\n",
        "    # Create classifier\n",
        "    gbc = GradientBoostingClassifier(max_depth = d, random_state = 0, n_estimators = n)\n",
        "    # Fit classifier\n",
        "    gbc.fit(X_train_train, y_train_train)\n",
        "    # Get validation MSE, append to array\n",
        "    gbc_predict = gbc.predict(X_train_val)\n",
        "    val_error = mean_squared_error(y_train_val, gbc_predict)\n",
        "    gbcdata.append([n,d,val_error])\n",
        "\n",
        "# Tabulate MSE data, find minimum\n",
        "print(tabulate(gbcdata, headers = [\"N_estimators\",\"Max_depths\", \"MSE\"], tablefmt = 'grid'))\n",
        "print()\n",
        "print(min(gbcdata, key = lambda x: x[2]))"
      ],
      "metadata": {
        "colab": {
          "base_uri": "https://localhost:8080/"
        },
        "id": "ma63Jfdq-lZG",
        "outputId": "6384f923-dd04-428e-b907-ddd4c5d2a76f"
      },
      "execution_count": 8,
      "outputs": [
        {
          "output_type": "stream",
          "name": "stdout",
          "text": [
            "+----------------+--------------+------------+\n",
            "|   N_estimators |   Max_depths |        MSE |\n",
            "+================+==============+============+\n",
            "|             10 |            1 | 0.011502   |\n",
            "+----------------+--------------+------------+\n",
            "|             10 |            2 | 0.00405954 |\n",
            "+----------------+--------------+------------+\n",
            "|             10 |            5 | 0.00439783 |\n",
            "+----------------+--------------+------------+\n",
            "|             10 |           10 | 0.00507442 |\n",
            "+----------------+--------------+------------+\n",
            "|             10 |           20 | 0.00541272 |\n",
            "+----------------+--------------+------------+\n",
            "|             20 |            1 | 0.0108254  |\n",
            "+----------------+--------------+------------+\n",
            "|             20 |            2 | 0.00304465 |\n",
            "+----------------+--------------+------------+\n",
            "|             20 |            5 | 0.00338295 |\n",
            "+----------------+--------------+------------+\n",
            "|             20 |           10 | 0.00473613 |\n",
            "+----------------+--------------+------------+\n",
            "|             20 |           20 | 0.00439783 |\n",
            "+----------------+--------------+------------+\n",
            "|             50 |            1 | 0.00439783 |\n",
            "+----------------+--------------+------------+\n",
            "|             50 |            2 | 0.00270636 |\n",
            "+----------------+--------------+------------+\n",
            "|             50 |            5 | 0.00169147 |\n",
            "+----------------+--------------+------------+\n",
            "|             50 |           10 | 0.00473613 |\n",
            "+----------------+--------------+------------+\n",
            "|             50 |           20 | 0.00439783 |\n",
            "+----------------+--------------+------------+\n",
            "|            100 |            1 | 0.00236806 |\n",
            "+----------------+--------------+------------+\n",
            "|            100 |            2 | 0.00169147 |\n",
            "+----------------+--------------+------------+\n",
            "|            100 |            5 | 0.00101488 |\n",
            "+----------------+--------------+------------+\n",
            "|            100 |           10 | 0.00405954 |\n",
            "+----------------+--------------+------------+\n",
            "|            100 |           20 | 0.00439783 |\n",
            "+----------------+--------------+------------+\n",
            "|            200 |            1 | 0.00270636 |\n",
            "+----------------+--------------+------------+\n",
            "|            200 |            2 | 0.00169147 |\n",
            "+----------------+--------------+------------+\n",
            "|            200 |            5 | 0.00101488 |\n",
            "+----------------+--------------+------------+\n",
            "|            200 |           10 | 0.00338295 |\n",
            "+----------------+--------------+------------+\n",
            "|            200 |           20 | 0.00405954 |\n",
            "+----------------+--------------+------------+\n",
            "\n",
            "[100, 5, 0.0010148849797023004]\n"
          ]
        }
      ]
    },
    {
      "cell_type": "markdown",
      "source": [
        "**The optimal hyperparameters are 100 estimators, a max depth of 5, for a validation MSE of 0.0010148849797023004**"
      ],
      "metadata": {
        "id": "Aa0KwWKtG2Wt"
      }
    },
    {
      "cell_type": "markdown",
      "source": [
        "##6. Boosted Final Validation"
      ],
      "metadata": {
        "id": "QFKX-H5rKDud"
      }
    },
    {
      "cell_type": "code",
      "source": [
        "gbc_opt = GradientBoostingClassifier(max_depth = 5, random_state = 0, n_estimators = 100)\n",
        "\n",
        "gbc_opt.fit(X_train, y_train)\n",
        "gbc_opt_train_pred = gbc_opt.predict(X_train)\n",
        "gbc_opt_test_pred = gbc_opt.predict(X_test)\n",
        "train_mse = mean_squared_error(y_train, gbc_opt_train_pred)\n",
        "test_mse = mean_squared_error(y_test, gbc_opt_test_pred)\n",
        "\n",
        "print(\"Train MSE: %f, Test MSE: %f\"%(train_mse, test_mse))"
      ],
      "metadata": {
        "id": "YvsBeLRWG_lE"
      },
      "execution_count": null,
      "outputs": []
    },
    {
      "cell_type": "markdown",
      "source": [
        "**Train MSE: 0.000846, Test MSE: 0.002030**"
      ],
      "metadata": {
        "id": "bB64b-gVHQdy"
      }
    },
    {
      "cell_type": "markdown",
      "source": [
        "##7. Boosted Feature Importance"
      ],
      "metadata": {
        "id": "KN46MLSWKY2C"
      }
    },
    {
      "cell_type": "code",
      "source": [
        "def plot_digit(data):\n",
        "  # Reshape image to grid\n",
        "  image = data.reshape(28,28)\n",
        "  # Show image\n",
        "  plt.imshow(image, cmap = mpl.cm.hot, interpolation = \"nearest\")\n",
        "  plt.axis(\"off\")\n",
        "\n",
        "# Plot grid of feature_importances\n",
        "plot_digit(gbc_opt.feature_importances_)\n",
        "\n",
        "# Set colorbar\n",
        "cbar = plt.colorbar(ticks = [gbc_opt.feature_importances_.min(), gbc_opt.feature_importances_.max()])\n",
        "cbar.ax.set_yticklabels([\"Low Importance\", \"High Importance\"])\n",
        "\n",
        "plt.show()"
      ],
      "metadata": {
        "colab": {
          "base_uri": "https://localhost:8080/",
          "height": 258
        },
        "id": "NDJ54PQfKYNr",
        "outputId": "dc00c2b5-22a1-49a4-b4b2-13eb7da45730"
      },
      "execution_count": 11,
      "outputs": [
        {
          "output_type": "display_data",
          "data": {
            "text/plain": [
              "<Figure size 432x288 with 2 Axes>"
            ],
            "image/png": "[encoded data removed]"
          },
          "metadata": {
            "needs_background": "light"
          }
        }
      ]
    },
    {
      "cell_type": "code",
      "source": [],
      "metadata": {
        "id": "Bb0smnxoN2a6"
      },
      "execution_count": null,
      "outputs": []
    }
  ]
}