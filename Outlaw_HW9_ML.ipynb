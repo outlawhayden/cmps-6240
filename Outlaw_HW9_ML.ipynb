{
  "cells": [
    {
      "cell_type": "markdown",
      "metadata": {
        "id": "jniMPS23XsbR"
      },
      "source": [
        "Use the seed 0 everywhere.\n",
        "\n",
        "1. Import MNIST data as we did in Lecture 7. We are only going to use digits 0 and 1. So extract only those examples and discard the rest.\n",
        "\n",
        "Next, randomly split the data into 80% training data and 20% testing data. Keep this split fixed throughout the experiments.\n",
        "\n",
        "2. For each K in Ks=[10,20,30], follow the steps in the lecture:\n",
        "\n",
        "Step 1.\n",
        "Cluster the training set into K clusters.\n",
        "Then for each cluster, find the image closest to the centroid, called the representative images.\n",
        "Plot the K representative images and manually label these images.\n",
        "Train Logistic Regression with K training examples.\n",
        "Report the training and the test accuracy.\n",
        "\n",
        "Step 2.\n",
        "Assign the labels of all instances based on the labels of the cluster centers (i.e., representative images).\n",
        "Train Logistic Regression with all training data using the propagated labels.\n",
        "Report the training and the test accuracy.\n",
        "\n",
        "3. Comment on the observed performance for the different values of K. [Can Ignore]"
      ]
    },
    {
      "cell_type": "markdown",
      "metadata": {
        "id": "fQzs5JovXuUD"
      },
      "source": [
        "##Importing Libraries"
      ]
    },
    {
      "cell_type": "code",
      "execution_count": 32,
      "metadata": {
        "id": "lq4mFw5f1BvG"
      },
      "outputs": [],
      "source": [
        "from sklearn.datasets import fetch_openml\n",
        "import numpy as np\n",
        "import matplotlib as mpl\n",
        "import matplotlib.pyplot as plt\n",
        "from sklearn.model_selection import train_test_split\n",
        "from sklearn.cluster import KMeans\n",
        "import pandas as pd\n",
        "from sklearn.linear_model import LogisticRegression\n",
        "from sklearn.preprocessing import StandardScaler\n",
        "from sklearn.pipeline import Pipeline"
      ]
    },
    {
      "cell_type": "markdown",
      "metadata": {
        "id": "HLGSLaUP7vAW"
      },
      "source": [
        "## Reading in Data"
      ]
    },
    {
      "cell_type": "code",
      "execution_count": 33,
      "metadata": {
        "id": "iPjyXoqc4x_H"
      },
      "outputs": [],
      "source": [
        "from sklearn.datasets import fetch_openml\n",
        "\n",
        "mnist = fetch_openml('mnist_784', version=1, as_frame=False)"
      ]
    },
    {
      "cell_type": "code",
      "execution_count": 34,
      "metadata": {
        "id": "YmG5rXBO5FGV"
      },
      "outputs": [],
      "source": [
        "# Split data into features and labels\n",
        "X_raw = mnist[\"data\"]\n",
        "y_raw = mnist[\"target\"]\n",
        "\n",
        "# Filter out only 1 and 0 images\n",
        "indices = [i for i in range(0, len(y_raw)) if (mnist[\"target\"][i] == '0' or mnist[\"target\"][i] == '1')]\n",
        "\n",
        "X = X_raw[indices]\n",
        "y = y_raw[indices]\n",
        "\n",
        "X_train, X_test, y_train, y_test = train_test_split(X,y, test_size = 0.2, random_state = 0)"
      ]
    },
    {
      "cell_type": "code",
      "execution_count": 35,
      "metadata": {
        "id": "w_-qEFmw9HdM"
      },
      "outputs": [],
      "source": [
        "def dist(vect1, vect2):\n",
        "  return np.linalg.norm(vect1 - vect2)"
      ]
    },
    {
      "cell_type": "markdown",
      "metadata": {
        "id": "E9uJ6GBi7yU2"
      },
      "source": [
        "## K = 10"
      ]
    },
    {
      "cell_type": "code",
      "execution_count": 36,
      "metadata": {
        "id": "ugaTKuDR5qgS"
      },
      "outputs": [],
      "source": [
        "# Create kmeans classifier\n",
        "kmeans_10 = KMeans(n_clusters = 10, random_state = 0)\n",
        "y_pred = kmeans_10.fit_predict(X_train)\n",
        "centroids = kmeans_10.cluster_centers_\n",
        "\n",
        "rep_images_10 = []\n",
        "# Find centroids, representative images\n",
        "for c in centroids:\n",
        "    dists = [dist(c, i) for i in X_train]\n",
        "    rep = np.argmin(dists)\n",
        "    rep_images_10.append([X_train[rep], rep])\n"
      ]
    },
    {
      "cell_type": "code",
      "execution_count": 37,
      "metadata": {
        "colab": {
          "base_uri": "https://localhost:8080/",
          "height": 143
        },
        "id": "mi8UfROt7zJq",
        "outputId": "f21c369f-fd84-4c74-a710-e540c630c159"
      },
      "outputs": [
        {
          "name": "stdout",
          "output_type": "stream",
          "text": [
            "[0, 0, 1, 1, 0, 1, 0, 0, 1, 0]\n"
          ]
        },
        {
          "data": {
            "image/png": "[encoded data removed]",
            "text/plain": [
              "<Figure size 1440x720 with 10 Axes>"
            ]
          },
          "metadata": {
            "needs_background": "light"
          },
          "output_type": "display_data"
        }
      ],
      "source": [
        "# Plot representative images\n",
        "fig, ax = plt.subplots(1,10, figsize = (20,10))\n",
        "for i in range(len(rep_images_10)):\n",
        "  image = rep_images_10[i][0].reshape(28, 28)\n",
        "  ax[i].imshow(image, cmap = mpl.cm.binary,\n",
        "               interpolation=\"nearest\")\n",
        "  ax[i].axis(\"off\") \n",
        "\n",
        "rep_images_10_y = [int(y_train[i[1]]) for i in rep_images_10]\n",
        "\n",
        "print(rep_images_10_y)"
      ]
    },
    {
      "cell_type": "code",
      "execution_count": 38,
      "metadata": {
        "colab": {
          "base_uri": "https://localhost:8080/"
        },
        "id": "KfsiOW0Xa48s",
        "outputId": "3c8040f1-0ba4-4dd0-dc22-00ba669df9a1"
      },
      "outputs": [
        {
          "name": "stdout",
          "output_type": "stream",
          "text": [
            "Training Accuracy: 0.9965324763193505 Test Accuracy: 0.9962787550744249\n"
          ]
        }
      ],
      "source": [
        "log_reg_10_simple = LogisticRegression()\n",
        "rep_images_10_set = [i[0] for i in rep_images_10]\n",
        "\n",
        "# Train logistic regression just on centroids alone\n",
        "log_reg_10_simple.fit(rep_images_10_set, rep_images_10_y)\n",
        "train_accuracy_10_simple = log_reg_10_simple.score(X_train, [int(k) for k in y_train])\n",
        "test_accuracy_10_simple = log_reg_10_simple.score(X_test, [int(k) for k in y_test])\n",
        "\n",
        "print(\"Training Accuracy:\",train_accuracy_10_simple, \"Test Accuracy:\", test_accuracy_10_simple)"
      ]
    },
    {
      "cell_type": "code",
      "execution_count": 39,
      "metadata": {
        "colab": {
          "base_uri": "https://localhost:8080/"
        },
        "id": "88bBoHRgfUBA",
        "outputId": "4e961f08-42b8-4bdd-b936-be7a2d28e287"
      },
      "outputs": [
        {
          "name": "stdout",
          "output_type": "stream",
          "text": [
            "Training Accuracy: 0.9978856562922869 Test Accuracy: 0.9979702300405954\n"
          ]
        },
        {
          "name": "stderr",
          "output_type": "stream",
          "text": [
            "/usr/local/lib/python3.8/dist-packages/sklearn/linear_model/_logistic.py:814: ConvergenceWarning: lbfgs failed to converge (status=1):\n",
            "STOP: TOTAL NO. of ITERATIONS REACHED LIMIT.\n",
            "\n",
            "Increase the number of iterations (max_iter) or scale the data as shown in:\n",
            "    https://scikit-learn.org/stable/modules/preprocessing.html\n",
            "Please also refer to the documentation for alternative solver options:\n",
            "    https://scikit-learn.org/stable/modules/linear_model.html#logistic-regression\n",
            "  n_iter_i = _check_optimize_result(\n"
          ]
        }
      ],
      "source": [
        "rep_images_10_propagated = np.empty(len(X_train), dtype = np.int32)\n",
        "for i in range(10):\n",
        "  rep_images_10_propagated[kmeans_10.labels_ == i] = rep_images_10_y[i]\n",
        "\n",
        "log_reg_10_prop = LogisticRegression()\n",
        "log_reg_10_prop.fit(X_train, rep_images_10_propagated)\n",
        "\n",
        "train_accuracy_10_prop = log_reg_10_prop.score(X_train, [int(k) for k in y_train])\n",
        "test_accuracy_10_prop = log_reg_10_prop.score(X_test, [int(k) for k in y_test])\n",
        "print(\"Training Accuracy:\",train_accuracy_10_prop, \"Test Accuracy:\", test_accuracy_10_prop)"
      ]
    },
    {
      "cell_type": "markdown",
      "metadata": {
        "id": "2B_-hBROBnNJ"
      },
      "source": [
        "## K = 20"
      ]
    },
    {
      "cell_type": "code",
      "execution_count": 40,
      "metadata": {
        "id": "0iDcwDQDmOqH"
      },
      "outputs": [],
      "source": [
        "# Create kmeans classifier\n",
        "kmeans_20 = KMeans(n_clusters = 20, random_state = 0)\n",
        "y_pred = kmeans_20.fit_predict(X_train)\n",
        "centroids = kmeans_20.cluster_centers_\n",
        "\n",
        "rep_images_20 = []\n",
        "# Find centroids, representative images\n",
        "for c in centroids:\n",
        "    dists = [dist(c, i) for i in X_train]\n",
        "    rep = np.argmin(dists)\n",
        "    rep_images_20.append([X_train[rep], rep])\n"
      ]
    },
    {
      "cell_type": "code",
      "execution_count": 41,
      "metadata": {
        "colab": {
          "base_uri": "https://localhost:8080/",
          "height": 96
        },
        "id": "Yxo7kgOtmTQl",
        "outputId": "73c39228-1e1f-4cf0-b96d-3179c05ec9b4"
      },
      "outputs": [
        {
          "name": "stdout",
          "output_type": "stream",
          "text": [
            "[1, 0, 0, 0, 1, 1, 1, 0, 1, 0, 0, 1, 0, 0, 0, 0, 0, 0, 0, 1]\n"
          ]
        },
        {
          "data": {
            "image/png": "[encoded data removed]",
            "text/plain": [
              "<Figure size 1440x720 with 20 Axes>"
            ]
          },
          "metadata": {
            "needs_background": "light"
          },
          "output_type": "display_data"
        }
      ],
      "source": [
        "# Plot representative images\n",
        "fig, ax = plt.subplots(1,20, figsize = (20,10))\n",
        "for i in range(len(rep_images_20)):\n",
        "  image = rep_images_20[i][0].reshape(28, 28)\n",
        "  ax[i].imshow(image, cmap = mpl.cm.binary,\n",
        "               interpolation=\"nearest\")\n",
        "  ax[i].axis(\"off\") \n",
        "\n",
        "rep_images_20_y = [int(y_train[i[1]]) for i in rep_images_20]\n",
        "\n",
        "print(rep_images_20_y)"
      ]
    },
    {
      "cell_type": "code",
      "execution_count": 42,
      "metadata": {
        "colab": {
          "base_uri": "https://localhost:8080/"
        },
        "id": "jvE4nPeTmZB8",
        "outputId": "af78cf10-2335-4999-951a-760b8f832659"
      },
      "outputs": [
        {
          "name": "stdout",
          "output_type": "stream",
          "text": [
            "Training Accuracy: 0.9972936400541272 Test Accuracy: 0.9969553450608931\n"
          ]
        }
      ],
      "source": [
        "log_reg_20_simple = LogisticRegression()\n",
        "rep_images_20_set = [i[0] for i in rep_images_20]\n",
        "\n",
        "# Train logistic regression just on centroids alone\n",
        "log_reg_20_simple.fit(rep_images_20_set, rep_images_20_y)\n",
        "train_accuracy_20_simple = log_reg_20_simple.score(X_train, [int(k) for k in y_train])\n",
        "test_accuracy_20_simple = log_reg_20_simple.score(X_test, [int(k) for k in y_test])\n",
        "\n",
        "print(\"Training Accuracy:\",train_accuracy_20_simple, \"Test Accuracy:\", test_accuracy_20_simple)"
      ]
    },
    {
      "cell_type": "code",
      "execution_count": 43,
      "metadata": {
        "colab": {
          "base_uri": "https://localhost:8080/"
        },
        "id": "Mquln2F2mlZU",
        "outputId": "70f25582-4dc7-49cd-c3e1-c1042e90baf8"
      },
      "outputs": [
        {
          "name": "stdout",
          "output_type": "stream",
          "text": [
            "Training Accuracy: 0.9983085250338295 Test Accuracy: 0.9979702300405954\n"
          ]
        },
        {
          "name": "stderr",
          "output_type": "stream",
          "text": [
            "/usr/local/lib/python3.8/dist-packages/sklearn/linear_model/_logistic.py:814: ConvergenceWarning: lbfgs failed to converge (status=1):\n",
            "STOP: TOTAL NO. of ITERATIONS REACHED LIMIT.\n",
            "\n",
            "Increase the number of iterations (max_iter) or scale the data as shown in:\n",
            "    https://scikit-learn.org/stable/modules/preprocessing.html\n",
            "Please also refer to the documentation for alternative solver options:\n",
            "    https://scikit-learn.org/stable/modules/linear_model.html#logistic-regression\n",
            "  n_iter_i = _check_optimize_result(\n"
          ]
        }
      ],
      "source": [
        "rep_images_20_propagated = np.empty(len(X_train), dtype = np.int32)\n",
        "for i in range(20):\n",
        "  rep_images_20_propagated[kmeans_20.labels_ == i] = rep_images_20_y[i]\n",
        "\n",
        "log_reg_20_prop = LogisticRegression()\n",
        "log_reg_20_prop.fit(X_train, rep_images_20_propagated)\n",
        "\n",
        "train_accuracy_20_prop = log_reg_20_prop.score(X_train, [int(k) for k in y_train])\n",
        "test_accuracy_20_prop = log_reg_20_prop.score(X_test, [int(k) for k in y_test])\n",
        "print(\"Training Accuracy:\",train_accuracy_20_prop, \"Test Accuracy:\", test_accuracy_20_prop)"
      ]
    },
    {
      "cell_type": "markdown",
      "metadata": {
        "id": "artXH1j0BqqO"
      },
      "source": [
        "## K = 30"
      ]
    },
    {
      "cell_type": "code",
      "execution_count": 44,
      "metadata": {
        "id": "QYOzNODgm0Zv"
      },
      "outputs": [],
      "source": [
        "# Create kmeans classifier\n",
        "kmeans_30 = KMeans(n_clusters = 30, random_state = 0)\n",
        "y_pred = kmeans_30.fit_predict(X_train)\n",
        "centroids = kmeans_30.cluster_centers_\n",
        "\n",
        "rep_images_30 = []\n",
        "# Find centroids, representative images\n",
        "for c in centroids:\n",
        "    dists = [dist(c, i) for i in X_train]\n",
        "    rep = np.argmin(dists)\n",
        "    rep_images_30.append([X_train[rep], rep])\n"
      ]
    },
    {
      "cell_type": "code",
      "execution_count": 45,
      "metadata": {
        "colab": {
          "base_uri": "https://localhost:8080/",
          "height": 80
        },
        "id": "WkB8dgkXm5pj",
        "outputId": "e62db104-a526-410c-c132-4d67223409e2"
      },
      "outputs": [
        {
          "name": "stdout",
          "output_type": "stream",
          "text": [
            "[0, 1, 1, 0, 0, 0, 1, 0, 0, 0, 1, 0, 1, 1, 0, 0, 1, 0, 0, 1, 0, 1, 0, 0, 1, 1, 0, 0, 0, 0]\n"
          ]
        },
        {
          "data": {
            "image/png": "[encoded data removed]",
            "text/plain": [
              "<Figure size 1440x720 with 30 Axes>"
            ]
          },
          "metadata": {
            "needs_background": "light"
          },
          "output_type": "display_data"
        }
      ],
      "source": [
        "# Plot representative images\n",
        "fig, ax = plt.subplots(1,30, figsize = (20,10))\n",
        "for i in range(len(rep_images_30)):\n",
        "  image = rep_images_30[i][0].reshape(28, 28)\n",
        "  ax[i].imshow(image, cmap = mpl.cm.binary,\n",
        "               interpolation=\"nearest\")\n",
        "  ax[i].axis(\"off\") \n",
        "\n",
        "rep_images_30_y = [int(y_train[i[1]]) for i in rep_images_30]\n",
        "\n",
        "print(rep_images_30_y)"
      ]
    },
    {
      "cell_type": "code",
      "execution_count": 46,
      "metadata": {
        "colab": {
          "base_uri": "https://localhost:8080/"
        },
        "id": "IRWVzlu5nACy",
        "outputId": "c08e5099-fdaf-4240-9ad8-e482f28b35a5"
      },
      "outputs": [
        {
          "name": "stdout",
          "output_type": "stream",
          "text": [
            "Training Accuracy: 0.9968707713125846 Test Accuracy: 0.9972936400541272\n"
          ]
        }
      ],
      "source": [
        "log_reg_30_simple = LogisticRegression()\n",
        "rep_images_30_set = [i[0] for i in rep_images_30]\n",
        "\n",
        "# Train logistic regression just on centroids alone\n",
        "log_reg_30_simple.fit(rep_images_30_set, rep_images_30_y)\n",
        "train_accuracy_30_simple = log_reg_30_simple.score(X_train, [int(k) for k in y_train])\n",
        "test_accuracy_30_simple = log_reg_30_simple.score(X_test, [int(k) for k in y_test])\n",
        "\n",
        "print(\"Training Accuracy:\",train_accuracy_30_simple, \"Test Accuracy:\", test_accuracy_30_simple)"
      ]
    },
    {
      "cell_type": "markdown",
      "metadata": {
        "id": "2lOtCzSqn1jn"
      },
      "source": [
        "##Discuss Results"
      ]
    },
    {
      "cell_type": "markdown",
      "metadata": {
        "id": "--FkcVT2oLWY"
      },
      "source": [
        "*As the number of clusters increases, the test and training accuracy both generally improve. The models with propagated labels also outperform the models that are trained only directly on the representative labels, but not by much, probably because the labels are propagated to the entire cluster instead of just the closest ones which is probably mis-labelling elements.*"
      ]
    }
  ],
  "metadata": {
    "colab": {
      "provenance": []
    },
    "kernelspec": {
      "display_name": "base",
      "language": "python",
      "name": "python3"
    },
    "language_info": {
      "name": "python",
      "version": "3.8.13 | packaged by conda-forge | (default, Mar 25 2022, 06:06:49) \n[Clang 12.0.1 ]"
    },
    "vscode": {
      "interpreter": {
        "hash": "4be3729a2cd8a1b0e6b1166f63eb2d13249f10a5233f501d7bc9ba2fd02b9e52"
      }
    }
  },
  "nbformat": 4,
  "nbformat_minor": 0
}
