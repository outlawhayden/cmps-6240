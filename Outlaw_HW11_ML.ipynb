{
  "cells": [
    {
      "cell_type": "markdown",
      "metadata": {
        "id": "-ekhbou3n8f6"
      },
      "source": [
        "In this homework, let's repeat HW 6/7 (MNIST classification using Random Forest and Gradient Boosting).\n",
        "\n",
        "So far we have manually found the best hyperparameters by doing something like\n",
        "\n",
        "for hparam1 in set1:\n",
        "   for hparam 2 in set2:\n",
        "      ...\n",
        "      compute validation score for [hparam1, hparam2, ...]\n",
        "\n",
        "and choosing the best [hparam1,hparam2, ...] with the highest score.\n",
        "However, scikit-learn already has the sklearn.model_selection.GridSearchCV class.\n",
        "(See https://scikit-learn.org/stable/modules/generated/sklearn.model_selection.GridSearchCV.html\n",
        "\n",
        "Links to an external site. for examples and usages.)\n",
        "\n",
        "Your job is to simply repeat HW 6/7 but with GridSearchCV without using the for loops. If done correctly, your results should be identical to your previous results."
      ]
    },
    {
      "cell_type": "markdown",
      "metadata": {
        "id": "FwOvJsX9oHuK"
      },
      "source": [
        "## 0. Importing Libraries"
      ]
    },
    {
      "cell_type": "code",
      "execution_count": 1,
      "metadata": {
        "id": "ZCO-gG4XoJgp"
      },
      "outputs": [],
      "source": [
        "from sklearn.datasets import fetch_openml\n",
        "from sklearn.model_selection import train_test_split\n",
        "import numpy as np\n",
        "from sklearn.ensemble import RandomForestClassifier\n",
        "from sklearn.ensemble import GradientBoostingClassifier\n",
        "from sklearn.metrics import mean_squared_error\n",
        "from tabulate import tabulate\n",
        "import matplotlib.pyplot as plt\n",
        "import matplotlib as mpl\n",
        "from sklearn.model_selection import GridSearchCV"
      ]
    },
    {
      "cell_type": "markdown",
      "metadata": {
        "id": "O3K6M_1qoMtY"
      },
      "source": [
        "##1. Loading Data"
      ]
    },
    {
      "cell_type": "code",
      "execution_count": 2,
      "metadata": {
        "id": "QQHaBRk0oOBD"
      },
      "outputs": [],
      "source": [
        "mnist = fetch_openml('mnist_784')"
      ]
    },
    {
      "cell_type": "code",
      "execution_count": 3,
      "metadata": {
        "id": "8PWozcZroOPH"
      },
      "outputs": [],
      "source": [
        "# Load in all mnist data\n",
        "Xraw, yraw = mnist['data'], mnist['target']\n",
        "# pd.Dataframe, pd.Series\n",
        "\n",
        "# Slice out only 0 and 1 data\n",
        "indices = [i for i in range(len(Xraw)) if (yraw[i] == '0' or yraw[i] == '1')]\n",
        "y = yraw[indices]\n",
        "X = Xraw.loc[indices]\n",
        "\n",
        "# Split and resplit dataset\n",
        "X_train, X_test, y_train, y_test = train_test_split(X, y, test_size = 0.2, random_state = 0)\n",
        "X_train_train, X_train_val, y_train_train, y_train_val = train_test_split(X_train, y_train, test_size = 0.25, random_state = 0)"
      ]
    },
    {
      "cell_type": "markdown",
      "metadata": {
        "id": "7sFrrGXzoU3h"
      },
      "source": [
        "##2. Hyperparameter Search"
      ]
    },
    {
      "cell_type": "code",
      "execution_count": 16,
      "metadata": {
        "colab": {
          "base_uri": "https://localhost:8080/"
        },
        "id": "gZ3Jsrk0qjCn",
        "outputId": "22267626-458c-45d0-935c-1665dcacbed5"
      },
      "outputs": [
        {
          "name": "stdout",
          "output_type": "stream",
          "text": [
            "{'max_depth': 10, 'n_estimators': 20}\n",
            "Validation Accuracy: 0.9989851150202977\n"
          ]
        }
      ],
      "source": [
        "# Create generic classifier\n",
        "rfc = RandomForestClassifier(random_state = 0)\n",
        "\n",
        "# List of parameters to search\n",
        "params = [{'max_depth':[1,2,5,10,20],\n",
        "           'n_estimators':[10,20,50,100,200]\n",
        "           }]\n",
        "\n",
        "# Do cvgridsearch\n",
        "rfc_cv = GridSearchCV(rfc, param_grid = params, scoring = 'accuracy')\n",
        "rfc_cv.fit(X_train_train, y_train_train)\n",
        "# Get best parameters\n",
        "print(rfc_cv.best_params_)\n",
        "# Get validation accuracy\n",
        "print(\"Validation Accuracy:\",rfc_cv.score(X_train_val, y_train_val))"
      ]
    },
    {
      "cell_type": "markdown",
      "metadata": {
        "id": "D9TL-imtoXBA"
      },
      "source": [
        "##3. Final Validation"
      ]
    },
    {
      "cell_type": "code",
      "execution_count": 22,
      "metadata": {
        "colab": {
          "base_uri": "https://localhost:8080/"
        },
        "id": "sa3NiSEaoXQd",
        "outputId": "2312b667-e4ed-44ec-cfa4-8caf7cfbce92"
      },
      "outputs": [
        {
          "name": "stdout",
          "output_type": "stream",
          "text": [
            "Train Accuracy: 1.000000, Test Accuracy: 0.998985\n"
          ]
        }
      ],
      "source": [
        "# Create tuned classifier\n",
        "rfc_opt = RandomForestClassifier(max_depth = 10, random_state = 0, n_estimators = 20)\n",
        "\n",
        "# Fit to all training data\n",
        "rfc_opt.fit(X_train, y_train)\n",
        "\n",
        "# Get test and training accuracy\n",
        "train_accuracy= rfc_opt.score(X_train, y_train)\n",
        "test_accuracy = rfc_opt.score(X_test, y_test)\n",
        "\n",
        "print(\"Train Accuracy: %f, Test Accuracy: %f\"%(train_accuracy, test_accuracy))"
      ]
    },
    {
      "cell_type": "markdown",
      "metadata": {
        "id": "jHb4pNuJofIz"
      },
      "source": [
        "##4. Feature Importance"
      ]
    },
    {
      "cell_type": "code",
      "execution_count": 7,
      "metadata": {
        "colab": {
          "base_uri": "https://localhost:8080/",
          "height": 258
        },
        "id": "8IXUF2HuogZi",
        "outputId": "72204f2b-eb29-460c-ff3b-524a9eba31ee"
      },
      "outputs": [
        {
          "data": {
            "image/png": "[encoded data removed]",
            "text/plain": [
              "<Figure size 432x288 with 2 Axes>"
            ]
          },
          "metadata": {
            "needs_background": "light"
          },
          "output_type": "display_data"
        }
      ],
      "source": [
        "def plot_digit(data):\n",
        "  # Reshape image to grid\n",
        "  image = data.reshape(28,28)\n",
        "  # Show image\n",
        "  plt.imshow(image, cmap = mpl.cm.hot, interpolation = \"nearest\")\n",
        "  plt.axis(\"off\")\n",
        "\n",
        "# Plot grid of feature_importances\n",
        "plot_digit(rfc_opt.feature_importances_)\n",
        "\n",
        "# Set colorbar\n",
        "cbar = plt.colorbar(ticks = [rfc_opt.feature_importances_.min(), rfc_opt.feature_importances_.max()])\n",
        "cbar.ax.set_yticklabels([\"Low Importance\", \"High Importance\"])\n",
        "\n",
        "plt.show()"
      ]
    },
    {
      "cell_type": "markdown",
      "metadata": {
        "id": "2oqgGWTyoh-2"
      },
      "source": [
        "##5. Boosted Hyperparameter Search"
      ]
    },
    {
      "cell_type": "code",
      "execution_count": 24,
      "metadata": {
        "colab": {
          "base_uri": "https://localhost:8080/"
        },
        "id": "YNIjY3ZVoizs",
        "outputId": "7bf70fda-71c7-4eb8-865d-39ada46c6d03"
      },
      "outputs": [
        {
          "name": "stdout",
          "output_type": "stream",
          "text": [
            "{'max_depth': 10, 'n_estimators': 20}\n",
            "Validation Accuracy: 0.9989851150202977\n"
          ]
        }
      ],
      "source": [
        "# Create generic classifier\n",
        "gbc = GradientBoostingClassifier(random_state = 0)\n",
        "\n",
        "# Parameters to search\n",
        "params = [{'max_depth':[1,2,5,10,20],\n",
        "           'n_estimators':[10,20,50,100,200]\n",
        "           }]\n",
        "\n",
        "# Do cvgridsearch\n",
        "gbc_cv = GridSearchCV(rfc, param_grid = params, scoring = 'accuracy')\n",
        "gbc_cv.fit(X_train_train, y_train_train)\n",
        "\n",
        "# Get best parameters\n",
        "print(gbc_cv.best_params_)\n",
        "\n",
        "# Get validation accuracy\n",
        "print(\"Validation Accuracy:\",gbc_cv.score(X_train_val, y_train_val))"
      ]
    },
    {
      "cell_type": "markdown",
      "metadata": {
        "id": "ILPslbFrokan"
      },
      "source": [
        "##6. Boosted Final Validation"
      ]
    },
    {
      "cell_type": "code",
      "execution_count": 21,
      "metadata": {
        "colab": {
          "base_uri": "https://localhost:8080/"
        },
        "id": "ZShUbFsVolrJ",
        "outputId": "d660cccf-1b1e-45cf-bdf5-34039c2fda39"
      },
      "outputs": [
        {
          "name": "stdout",
          "output_type": "stream",
          "text": [
            "Train Accuracy: 1.000000, Test ACcuracy: 0.997632\n"
          ]
        }
      ],
      "source": [
        "gbc_opt = GradientBoostingClassifier(max_depth = 10, random_state = 0, n_estimators = 20)\n",
        "\n",
        "gbc_opt.fit(X_train, y_train)\n",
        "train_accuracy = gbc_opt.score(X_train, y_train)\n",
        "test_accuracy = gbc_opt.score(X_test, y_test)\n",
        "\n",
        "print(\"Train Accuracy: %f, Test ACcuracy: %f\"%(train_accuracy, test_accuracy))"
      ]
    },
    {
      "cell_type": "markdown",
      "metadata": {
        "id": "u2SycIU-om8B"
      },
      "source": [
        "##7. Boosted Feature Importance"
      ]
    },
    {
      "cell_type": "code",
      "execution_count": 23,
      "metadata": {
        "colab": {
          "base_uri": "https://localhost:8080/",
          "height": 258
        },
        "id": "JOthZ1ZjooH4",
        "outputId": "ae6e88d5-0852-4bc2-d153-8ef2f07ff8e8"
      },
      "outputs": [
        {
          "data": {
            "image/png": "[encoded data removed]",
            "text/plain": [
              "<Figure size 432x288 with 2 Axes>"
            ]
          },
          "metadata": {
            "needs_background": "light"
          },
          "output_type": "display_data"
        }
      ],
      "source": [
        "def plot_digit(data):\n",
        "  # Reshape image to grid\n",
        "  image = data.reshape(28,28)\n",
        "  # Show image\n",
        "  plt.imshow(image, cmap = mpl.cm.hot, interpolation = \"nearest\")\n",
        "  plt.axis(\"off\")\n",
        "\n",
        "# Plot grid of feature_importances\n",
        "plot_digit(gbc_opt.feature_importances_)\n",
        "\n",
        "# Set colorbar\n",
        "cbar = plt.colorbar(ticks = [gbc_opt.feature_importances_.min(), gbc_opt.feature_importances_.max()])\n",
        "cbar.ax.set_yticklabels([\"Low Importance\", \"High Importance\"])\n",
        "\n",
        "plt.show()"
      ]
    }
  ],
  "metadata": {
    "colab": {
      "provenance": []
    },
    "kernelspec": {
      "display_name": "base",
      "language": "python",
      "name": "python3"
    },
    "language_info": {
      "name": "python",
      "version": "3.8.13 | packaged by conda-forge | (default, Mar 25 2022, 06:06:49) \n[Clang 12.0.1 ]"
    },
    "vscode": {
      "interpreter": {
        "hash": "4be3729a2cd8a1b0e6b1166f63eb2d13249f10a5233f501d7bc9ba2fd02b9e52"
      }
    }
  },
  "nbformat": 4,
  "nbformat_minor": 0
}
